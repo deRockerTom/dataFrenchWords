{
  "nbformat": 4,
  "nbformat_minor": 0,
  "metadata": {
    "colab": {
      "name": "Untitled1.ipynb",
      "provenance": [],
      "authorship_tag": "ABX9TyMGIyQxKDs/wdAN6xlOjmdT",
      "include_colab_link": true
    },
    "kernelspec": {
      "name": "python3",
      "display_name": "Python 3"
    },
    "language_info": {
      "name": "python"
    }
  },
  "cells": [
    {
      "cell_type": "markdown",
      "metadata": {
        "id": "view-in-github",
        "colab_type": "text"
      },
      "source": [
        "<a href=\"https://colab.research.google.com/github/deRockerTom/dataFrenchWords/blob/main/CreationBDD.ipynb\" target=\"_parent\"><img src=\"https://colab.research.google.com/assets/colab-badge.svg\" alt=\"Open In Colab\"/></a>"
      ]
    },
    {
      "cell_type": "code",
      "execution_count": null,
      "metadata": {
        "id": "Lh4bLte4c6Ng"
      },
      "outputs": [],
      "source": [
        "!git clone https://github.com/deRockerTom/dataFrenchWords\n",
        "!pip install textract\n",
        "!sudo apt-get install antiword"
      ]
    },
    {
      "cell_type": "code",
      "source": [
        "import textract\n",
        "text = textract.process(\"dataFrenchWords/maupassant_bel_ami_illustre.doc\")\n",
        "text = text.decode(\"utf-8\")\n",
        "text = text.replace('’', '\\'').replace('–', '-').replace('…', '...').replace('‘', '\\'').replace('€', 'euros').replace('[pic]', '')"
      ],
      "metadata": {
        "id": "JHZpWCw3c-Eb"
      },
      "execution_count": null,
      "outputs": []
    },
    {
      "cell_type": "code",
      "source": [
        "# Create a dictionnary with text with 256 most frequent substrings of n char\n",
        "\n",
        "def createDic(string, n):\n",
        "  dic = {}\n",
        "  for i in range(len(string) - n):\n",
        "    dic[string[i:i + n]] = string.count(string[i:i + n])\n",
        "  # dic = dict(sorted(dic.items(), key=lambda item: item[1], reverse=True))\n",
        "  dic = {k: v for k, v in sorted(dic.items(), key=lambda item: item[1], reverse=True)}\n",
        "  dic = {k: dic[k] for k in list(dic)[:256]} # In order to code the dictionnary on only 1 other bytes with most frequent words\n",
        "  return dic\n",
        "dicHugo3 = createDic(text, 3)\n",
        "print(dicHugo3)\n",
        "\n",
        "def createDicMax(string, n):\n",
        "  dic = {}\n",
        "  for k in range(2,n):\n",
        "    for i in range(len(string) - k):\n",
        "      dic[string[i:i + k]] = int((1.5 * string.count(string[i:i + k])) // k) # In order to favorise a bit bigger words\n",
        "  dic = {k: v for k, v in sorted(dic.items(), key=lambda item: item[1], reverse=True)}\n",
        "  dic = {k: dic[k] for k in list(dic)[:256]} # In order to code the dictionnary on only 1 other bytes with most frequent words\n",
        "  return dic\n",
        "dicHugoMax4 = createDicMax(text, 4)"
      ],
      "metadata": {
        "id": "dIRcPMyqdGZA"
      },
      "execution_count": null,
      "outputs": []
    },
    {
      "cell_type": "code",
      "source": [
        "dicHugoMax50 = createDicMax(text, 50)"
      ],
      "metadata": {
        "id": "jFPQ6DqndH-c"
      },
      "execution_count": null,
      "outputs": []
    },
    {
      "cell_type": "code",
      "source": [
        "dicHugoMax10 = createDicMax(text, 10)"
      ],
      "metadata": {
        "id": "OzTqZFrJdPPJ"
      },
      "execution_count": null,
      "outputs": []
    },
    {
      "cell_type": "code",
      "source": [
        "dicByHugo = createDic(test, 3)"
      ],
      "metadata": {
        "id": "Zbr6LFJ3dUBV"
      },
      "execution_count": null,
      "outputs": []
    },
    {
      "cell_type": "code",
      "source": [
        "dicByHugoMax = createDicMax(test, 3)"
      ],
      "metadata": {
        "id": "Gdtmkz5ldfk2"
      },
      "execution_count": null,
      "outputs": []
    },
    {
      "cell_type": "code",
      "source": [
        "for k in dicByHugoMax:\n",
        "  dicByHugoMax[k] = int(dicByHugoMax[k])\n",
        "for k in dicHugoMax50:\n",
        "  dicHugoMax50[k] = int(dicHugoMax50[k])\n",
        "for k in dicHugoMax10:\n",
        "  dicHugoMax10[k] = int(dicHugoMax10[k])"
      ],
      "metadata": {
        "id": "CkZOxke6dTOd"
      },
      "execution_count": null,
      "outputs": []
    },
    {
      "cell_type": "code",
      "source": [
        "#convert our dicts to files\n",
        "\n",
        "\n",
        "with open('dicByHugo', 'w') as f:\n",
        "  for key in dicByHugo.keys():\n",
        "    f.write(\"%sក%sខ\" % (key, dicByHugo[key]))\n",
        "\n",
        "\n",
        "with open('dicByHugoMax', 'w') as f:\n",
        "  for key in dicByHugoMax.keys():\n",
        "    f.write(\"%sក%sខ\" % (key, dicByHugoMax[key]))\n",
        "\n",
        "with open('dicByHugoMax10', 'w') as f:\n",
        "  for key in dicHugoMax10.keys():\n",
        "    f.write(\"%sក%sខ\" % (key, dicHugoMax10[key]))\n",
        "\n",
        "with open('dicByHugoMax50', 'w') as f:\n",
        "  for key in dicHugoMax50.keys():\n",
        "    f.write(\"%sក%sខ\" % (key, dicHugoMax50[key]))"
      ],
      "metadata": {
        "id": "G-A7srY7duR_"
      },
      "execution_count": null,
      "outputs": []
    }
  ]
}