{
  "nbformat": 4,
  "nbformat_minor": 0,
  "metadata": {
    "colab": {
      "name": "Untitled0.ipynb",
      "provenance": [],
      "collapsed_sections": [],
      "authorship_tag": "ABX9TyO1siXhiiN23pekr4Tc25nB",
      "include_colab_link": true
    },
    "kernelspec": {
      "name": "python3",
      "display_name": "Python 3"
    },
    "language_info": {
      "name": "python"
    }
  },
  "cells": [
    {
      "cell_type": "markdown",
      "metadata": {
        "id": "view-in-github",
        "colab_type": "text"
      },
      "source": [
        "<a href=\"https://colab.research.google.com/github/deRockerTom/dataFrenchWords/blob/main/compressFrenchFile.ipynb\" target=\"_parent\"><img src=\"https://colab.research.google.com/assets/colab-badge.svg\" alt=\"Open In Colab\"/></a>"
      ]
    },
    {
      "cell_type": "code",
      "source": [
        "!git clone https://github.com/deRockerTom/dataFrenchWords"
      ],
      "metadata": {
        "colab": {
          "base_uri": "https://localhost:8080/"
        },
        "id": "scT0RXv3qF9z",
        "outputId": "469024ab-b8bc-45ac-bea8-9ec6fa4b3c64"
      },
      "execution_count": 1,
      "outputs": [
        {
          "output_type": "stream",
          "name": "stdout",
          "text": [
            "Cloning into 'dataFrenchWords'...\n",
            "remote: Enumerating objects: 25, done.\u001b[K\n",
            "remote: Counting objects: 100% (25/25), done.\u001b[K\n",
            "remote: Compressing objects: 100% (25/25), done.\u001b[K\n",
            "remote: Total 25 (delta 9), reused 0 (delta 0), pack-reused 0\u001b[K\n",
            "Unpacking objects: 100% (25/25), done.\n"
          ]
        }
      ]
    },
    {
      "cell_type": "code",
      "source": [
        "!pip install textract"
      ],
      "metadata": {
        "id": "idoV1rZ_Jj0J"
      },
      "execution_count": null,
      "outputs": []
    },
    {
      "cell_type": "code",
      "source": [
        "!sudo apt-get install antiword"
      ],
      "metadata": {
        "colab": {
          "base_uri": "https://localhost:8080/"
        },
        "id": "33bs4hiFJxhM",
        "outputId": "8797832e-c014-4346-f1a3-e9e0a93ea1ac"
      },
      "execution_count": 5,
      "outputs": [
        {
          "output_type": "stream",
          "name": "stdout",
          "text": [
            "Reading package lists... Done\n",
            "Building dependency tree       \n",
            "Reading state information... Done\n",
            "The following package was automatically installed and is no longer required:\n",
            "  libnvidia-common-460\n",
            "Use 'sudo apt autoremove' to remove it.\n",
            "The following NEW packages will be installed:\n",
            "  antiword\n",
            "0 upgraded, 1 newly installed, 0 to remove and 49 not upgraded.\n",
            "Need to get 128 kB of archives.\n",
            "After this operation, 633 kB of additional disk space will be used.\n",
            "Get:1 http://archive.ubuntu.com/ubuntu bionic/universe amd64 antiword amd64 0.37-11build1 [128 kB]\n",
            "Fetched 128 kB in 0s (306 kB/s)\n",
            "debconf: unable to initialize frontend: Dialog\n",
            "debconf: (No usable dialog-like program is installed, so the dialog based frontend cannot be used. at /usr/share/perl5/Debconf/FrontEnd/Dialog.pm line 76, <> line 1.)\n",
            "debconf: falling back to frontend: Readline\n",
            "debconf: unable to initialize frontend: Readline\n",
            "debconf: (This frontend requires a controlling tty.)\n",
            "debconf: falling back to frontend: Teletype\n",
            "dpkg-preconfigure: unable to re-open stdin: \n",
            "Selecting previously unselected package antiword.\n",
            "(Reading database ... 155639 files and directories currently installed.)\n",
            "Preparing to unpack .../antiword_0.37-11build1_amd64.deb ...\n",
            "Unpacking antiword (0.37-11build1) ...\n",
            "Setting up antiword (0.37-11build1) ...\n",
            "Processing triggers for man-db (2.8.3-2ubuntu0.1) ...\n",
            "Processing triggers for hicolor-icon-theme (0.17-2) ...\n",
            "Processing triggers for mime-support (3.60ubuntu1) ...\n"
          ]
        }
      ]
    },
    {
      "cell_type": "code",
      "source": [
        "import textract\n",
        "text = textract.process(\"dataFrenchWords/maupassant_bel_ami_illustre.doc\")\n",
        "text = text.decode(\"utf-8\")\n",
        "text = text.replace('’', '\\'').replace('–', '-').replace('…', '...').replace('‘', '\\'')"
      ],
      "metadata": {
        "id": "m-h39iUgJbvv"
      },
      "execution_count": 35,
      "outputs": []
    },
    {
      "cell_type": "code",
      "source": [
        "# Create a dictionnary with text with 256 most frequent substrings of n char\n",
        "\n",
        "def createDic(string, n):\n",
        "  dic = {}\n",
        "  for i in range(len(string) - n):\n",
        "    dic[string[i:i + n]] = string.count(string[i:i + n])\n",
        "  # dic = dict(sorted(dic.items(), key=lambda item: item[1], reverse=True))\n",
        "  dic = {k: v for k, v in sorted(dic.items(), key=lambda item: item[1], reverse=True)}\n",
        "  dic = {k: dic[k] for k in list(dic)[:256]} # In order to code the dictionnary on only 1 other bytes with most frequent words\n",
        "  return dic\n",
        "dicHugo3 = createDic(text, 3)\n",
        "print(dicHugo3)"
      ],
      "metadata": {
        "colab": {
          "base_uri": "https://localhost:8080/"
        },
        "id": "ZsUP8YnEOH--",
        "outputId": "76330fcf-d0d3-4862-b93c-2c43efb24a11"
      },
      "execution_count": 60,
      "outputs": [
        {
          "output_type": "stream",
          "name": "stdout",
          "text": [
            "{'   ': 6274, ' de': 5924, 'e  ': 5540, 'es ': 5000, '\\n  ': 4644, '\\n\\n ': 4578, '\\n\\n\\n': 4539, 'it ': 4254, 'ait': 4143, 'de ': 3876, 'le ': 3797, 's  ': 3569, ' le': 3502, 'ent': 3467, 'nt ': 3345, 't  ': 3332, ' qu': 2994, '  d': 2981, 'lle': 2693, 'ne ': 2653, 'e, ': 2577, ',  ': 2522, 'ant': 2461, ' et': 2456, 'et ': 2455, ' la': 2347, '  l': 2330, ' pa': 2261, ' un': 2235, 'la ': 2190, 'our': 2106, ' se': 2085, 'que': 2084, 're ': 2076, ' co': 2051, 's, ': 1932, 'e d': 1913, 'ais': 1902, 'les': 1900, 'is ': 1900, '  s': 1847, 'il ': 1847, 'on ': 1830, 'ur ': 1784, '  p': 1772, '.\\n\\n': 1763, ' «\\xa0': 1727, ' so': 1715, ' en': 1693, 'er ': 1689, 'ous': 1664, 'ns ': 1641, 'us ': 1641, 'ien': 1636, ' à ': 1628, 'e s': 1625, '  c': 1584, 'une': 1551, 'en ': 1543, ' po': 1535, 'un ': 1532, 'e l': 1477, ' il': 1475, '  e': 1465, 'mme': 1460, 'n  ': 1459, 'te ': 1445, 'ue ': 1433, 'me ': 1421, ' re': 1418, 'tre': 1401, '\\xa0»\\n': 1392, '»\\n\\n': 1382, 't d': 1379, '  «': 1379, 't, ': 1372, 'eur': 1355, 'ui ': 1345, ' Il': 1338, ' vo': 1335, 'se ': 1332, 's d': 1332, 'par': 1325, 'r  ': 1324, 'res': 1308, 'des': 1306, ' ma': 1284, \" l'\": 1282, 'ell': 1273, 'tou': 1270, ' to': 1267, 'e p': 1264, ' sa': 1259, \" d'\": 1245, '  a': 1230, 'Il ': 1229, ' ce': 1225, 'ans': 1217, ' av': 1213, 'omm': 1188, 'men': 1182, 'tai': 1175, 'est': 1173, '.\\xa0»': 1171, ' mo': 1152, 'rai': 1132, '\\xa0:\\n': 1131, ' ch': 1128, 'out': 1110, 'che': 1104, 'e c': 1092, 'dan': 1091, ':\\n\\n': 1074, ' au': 1050, 'ut ': 1043, 'pou': 1037, 'a  ': 1036, 'vai': 1033, 't l': 1030, 'son': 1025, 'com': 1010, 's l': 1004, ' su': 988, ' pe': 986, ' pr': 982, 'qui': 981, \"qu'\": 971, 'ce ': 962, ', e': 960, '  m': 959, 'pas': 958, 'eux': 957, 'nte': 945, 'mai': 939, 'vou': 931, 'ren': 910, '  I': 902, ' ne': 897, 'ux ': 895, '.  ': 892, 'end': 891, ' fa': 890, 'ire': 864, 'con': 860, 'ave': 857, '  q': 856, '  t': 855, ' tr': 854, ' da': 854, 'ill': 845, ' lu': 839, 't p': 837, 'e m': 829, 'lui': 827, 'eme': 822, ' je': 813, 'uis': 809, 'ain': 808, 'ouv': 800, '  f': 796, 'ran': 795, 'ons': 793, 'ava': 790, 't s': 788, 'e. ': 780, '  E': 774, 'es,': 772, 'and': 768, 'lai': 766, 'e t': 760, 'l  ': 759, 's p': 755, 'sse': 751, 'éta': 750, 'ion': 748, 'e e': 746, 'e v': 746, 'cha': 745, 'as ': 744, 'r, ': 739, \" s'\": 737, 'ort': 732, 'ont': 728, ' di': 727, 'ir ': 724, 'sai': 723, 'tte': 716, 'aie': 714, 'e f': 711, 'ure': 708, 'e r': 704, 'ère': 704, 'rs ': 704, 'onn': 700, 'ten': 699, '  v': 694, 's s': 691, 'sur': 682, '  r': 679, 'r l': 678, 'ter': 673, 'Ell': 672, ' pl': 667, ' du': 661, 'int': 660, 'fai': 659, ', d': 651, 'i  ': 645, ' El': 644, 'ier': 641, 'sa ': 639, \"'un\": 635, 'cou': 635, 'ser': 626, 'ond': 625, 'jou': 624, 'du ': 623, 'ett': 621, 'tes': 620, 's c': 619, 'vec': 618, 'san': 616, '  u': 615, ' vi': 615, 'iss': 612, 'air': 611, 's e': 610, \"'es\": 610, 'ses': 608, 's a': 607, 'u  ': 607, 'au ': 605, 'je ': 601, 'voi': 601, ' no': 601, 'ssa': 599, ' dé': 599, '...': 597, 'e.\\n': 596, 'urs': 595, 'ass': 593, ' do': 591, 't e': 590, 'ec ': 589, \"l'a\": 589, 'ver': 588, 'sou': 587, 'mon': 584, 'aut': 584, 'n, ': 580, ' el': 580, 'st ': 576, 'dit': 571, '  i': 568, 'tro': 567, 'ieu': 563}\n"
          ]
        }
      ]
    },
    {
      "cell_type": "code",
      "source": [
        "def createDicMax(string, n):\n",
        "  dic = {}\n",
        "  for k in range(2,n):\n",
        "    for i in range(len(string) - k):\n",
        "      dic[string[i:i + k]] = int((1.5 * string.count(string[i:i + k])) // k) # In order to favorise a bit bigger words\n",
        "  dic = {k: v for k, v in sorted(dic.items(), key=lambda item: item[1], reverse=True)}\n",
        "  dic = {k: dic[k] for k in list(dic)[:256]} # In order to code the dictionnary on only 1 other bytes with most frequent words\n",
        "  return dic\n",
        "dicHugoMax4 = createDicMax(text, 4)"
      ],
      "metadata": {
        "id": "qkP7bb-kc0Q4"
      },
      "execution_count": 91,
      "outputs": []
    },
    {
      "cell_type": "code",
      "source": [
        "dicHugoMax50 = createDicMax(text, 50)"
      ],
      "metadata": {
        "id": "xQAUzjGg0AYb"
      },
      "execution_count": 158,
      "outputs": []
    },
    {
      "cell_type": "code",
      "source": [
        "dicByHugo = dicHugo3\n",
        "dicByHugoMax = dicHugoMax4"
      ],
      "metadata": {
        "id": "2aO1zKRMWRKQ"
      },
      "execution_count": 93,
      "outputs": []
    },
    {
      "cell_type": "code",
      "source": [
        "#convert our dicts to files\n",
        "\n",
        "\n",
        "with open('dicByHugo', 'w') as f:\n",
        "  for key in dicByHugo.keys():\n",
        "    f.write(\"%sក%sខ\" % (key, dicByHugo[key]))\n",
        "\n",
        "\n",
        "with open('dicByHugoMax', 'w') as f:\n",
        "  for key in dicByHugoMax.keys():\n",
        "    f.write(\"%sក%sខ\" % (key, dicByHugoMax[key]))\n",
        "\n",
        "with open('dicByHugoMax10', 'w') as f:\n",
        "  for key in dicHugoMax10.keys():\n",
        "    f.write(\"%sក%sខ\" % (key, dicHugoMax10[key]))\n",
        "\n",
        "with open('dicByHugoMax50', 'w') as f:\n",
        "  for key in dicHugoMax50.keys():\n",
        "    f.write(\"%sក%sខ\" % (key, dicHugoMax50[key]))\n"
      ],
      "metadata": {
        "id": "juyIVewNmqbO"
      },
      "execution_count": 159,
      "outputs": []
    },
    {
      "cell_type": "code",
      "source": [
        "# Get dict with file\n",
        "import os\n",
        "\n",
        "def getDictWithFile(file):\n",
        "  with open(file, 'r') as f:\n",
        "    dic = {}\n",
        "    key = \"\"\n",
        "    value = \"\"\n",
        "    isKey = True\n",
        "    for l in f.readlines():\n",
        "      for c in l:\n",
        "        if c == 'ក':\n",
        "          isKey = False\n",
        "        elif c == 'ខ':\n",
        "          isKey = True\n",
        "          dic[key] = int(value)\n",
        "          key = \"\"\n",
        "          value = \"\"\n",
        "        else:\n",
        "          if isKey:\n",
        "            key = key + c\n",
        "          else:\n",
        "            value = value + c\n",
        "    value = value + \"\\n\"\n",
        "  return dic\n",
        "\n",
        "dicByHugo = getDictWithFile('dataFrenchWords/dicByHugo')\n",
        "dicByHugoMax = getDictWithFile('dataFrenchWords/dicByHugoMax')\n",
        "dictByHugoMax10 = getDictWithFile('dataFrenchWords/dicByHugoMax10')\n",
        "\n",
        "\n"
      ],
      "metadata": {
        "colab": {
          "base_uri": "https://localhost:8080/",
          "height": 371
        },
        "id": "D-79WIkptQUQ",
        "outputId": "f4ad44b3-49e7-4526-8a73-ea82fe95235a"
      },
      "execution_count": 152,
      "outputs": [
        {
          "output_type": "error",
          "ename": "ValueError",
          "evalue": "ignored",
          "traceback": [
            "\u001b[0;31m---------------------------------------------------------------------------\u001b[0m",
            "\u001b[0;31mValueError\u001b[0m                                Traceback (most recent call last)",
            "\u001b[0;32m<ipython-input-152-7b5a9729f643>\u001b[0m in \u001b[0;36m<module>\u001b[0;34m()\u001b[0m\n\u001b[1;32m     26\u001b[0m \u001b[0;34m\u001b[0m\u001b[0m\n\u001b[1;32m     27\u001b[0m \u001b[0mdicByHugo\u001b[0m \u001b[0;34m=\u001b[0m \u001b[0mgetDictWithFile\u001b[0m\u001b[0;34m(\u001b[0m\u001b[0;34m'dataFrenchWords/dicByHugo'\u001b[0m\u001b[0;34m)\u001b[0m\u001b[0;34m\u001b[0m\u001b[0;34m\u001b[0m\u001b[0m\n\u001b[0;32m---> 28\u001b[0;31m \u001b[0mdicByHugoMax\u001b[0m \u001b[0;34m=\u001b[0m \u001b[0mgetDictWithFile\u001b[0m\u001b[0;34m(\u001b[0m\u001b[0;34m'dataFrenchWords/dicByHugoMax'\u001b[0m\u001b[0;34m)\u001b[0m\u001b[0;34m\u001b[0m\u001b[0;34m\u001b[0m\u001b[0m\n\u001b[0m\u001b[1;32m     29\u001b[0m \u001b[0mdictByHugoMax10\u001b[0m \u001b[0;34m=\u001b[0m \u001b[0mgetDictWithFile\u001b[0m\u001b[0;34m(\u001b[0m\u001b[0;34m'dataFrenchWords/dicByHugoMax10'\u001b[0m\u001b[0;34m)\u001b[0m\u001b[0;34m\u001b[0m\u001b[0;34m\u001b[0m\u001b[0m\n\u001b[1;32m     30\u001b[0m \u001b[0;34m\u001b[0m\u001b[0m\n",
            "\u001b[0;32m<ipython-input-152-7b5a9729f643>\u001b[0m in \u001b[0;36mgetDictWithFile\u001b[0;34m(file)\u001b[0m\n\u001b[1;32m     14\u001b[0m         \u001b[0;32melif\u001b[0m \u001b[0mc\u001b[0m \u001b[0;34m==\u001b[0m \u001b[0;34m'ខ'\u001b[0m\u001b[0;34m:\u001b[0m\u001b[0;34m\u001b[0m\u001b[0;34m\u001b[0m\u001b[0m\n\u001b[1;32m     15\u001b[0m           \u001b[0misKey\u001b[0m \u001b[0;34m=\u001b[0m \u001b[0;32mTrue\u001b[0m\u001b[0;34m\u001b[0m\u001b[0;34m\u001b[0m\u001b[0m\n\u001b[0;32m---> 16\u001b[0;31m           \u001b[0mdic\u001b[0m\u001b[0;34m[\u001b[0m\u001b[0mkey\u001b[0m\u001b[0;34m]\u001b[0m \u001b[0;34m=\u001b[0m \u001b[0mint\u001b[0m\u001b[0;34m(\u001b[0m\u001b[0mvalue\u001b[0m\u001b[0;34m)\u001b[0m\u001b[0;34m\u001b[0m\u001b[0;34m\u001b[0m\u001b[0m\n\u001b[0m\u001b[1;32m     17\u001b[0m           \u001b[0mkey\u001b[0m \u001b[0;34m=\u001b[0m \u001b[0;34m\"\"\u001b[0m\u001b[0;34m\u001b[0m\u001b[0;34m\u001b[0m\u001b[0m\n\u001b[1;32m     18\u001b[0m           \u001b[0mvalue\u001b[0m \u001b[0;34m=\u001b[0m \u001b[0;34m\"\"\u001b[0m\u001b[0;34m\u001b[0m\u001b[0;34m\u001b[0m\u001b[0m\n",
            "\u001b[0;31mValueError\u001b[0m: invalid literal for int() with base 10: '26162.0'"
          ]
        }
      ]
    },
    {
      "cell_type": "code",
      "source": [
        "def convertToBinary(number):\n",
        "  binary = ''\n",
        "  while number > 0:\n",
        "    binary = str(number % 2) + binary\n",
        "    number = number // 2\n",
        "  return binary\n",
        "def convertToNineBits(bits):\n",
        "  n = len(bits)\n",
        "  if n < 9:\n",
        "    k = 9 - n\n",
        "    return str('0') * k + bits\n",
        "  elif n == 9:\n",
        "    return bits\n",
        "  else:\n",
        "    print(\"Attention : un des encodages est trop grand (>9)\")\n",
        "    print(bits)\n",
        "\n",
        "convertToNineBits(convertToBinary(255))"
      ],
      "metadata": {
        "colab": {
          "base_uri": "https://localhost:8080/",
          "height": 36
        },
        "id": "3osK_tKk8uSu",
        "outputId": "6883ee74-f780-4cb4-e32b-a01ea30a72b9"
      },
      "execution_count": 17,
      "outputs": [
        {
          "output_type": "execute_result",
          "data": {
            "text/plain": [
              "'011111111'"
            ],
            "application/vnd.google.colaboratory.intrinsic+json": {
              "type": "string"
            }
          },
          "metadata": {},
          "execution_count": 17
        }
      ]
    },
    {
      "cell_type": "code",
      "source": [
        "import csv\n",
        "\n",
        "# open csv\n",
        "dic = {}\n",
        "with open('dataFrenchWords/french-word-list-verbs.csv', 'r') as csvfile:\n",
        "  reader = csv.reader(csvfile)\n",
        "  #drop first 3 lines\n",
        "  next(reader)\n",
        "  next(reader)\n",
        "  next(reader)\n",
        "  #create dictionary\n",
        "  for row in reader:\n",
        "    if row[1] in dic:\n",
        "      dic[row[1]] += int(row[2])\n",
        "    else:\n",
        "      dic[row[1]] = int(row[2])\n",
        "  csvfile.close()\n",
        "\n",
        "with open('dataFrenchWords/french-word-list-adjectives.csv', 'r') as csvfile:\n",
        "  reader = csv.reader(csvfile)\n",
        "  #drop first 3 lines\n",
        "  next(reader)\n",
        "  next(reader)\n",
        "  next(reader)\n",
        "  #create dictionary\n",
        "  for row in reader:\n",
        "    if row[1] in dic:\n",
        "      dic[row[1]] += int(row[2])\n",
        "    else:\n",
        "      dic[row[1]] = int(row[2])\n",
        "  csvfile.close()\n",
        "\n",
        "with open('dataFrenchWords/french-word-list-nouns.csv', 'r') as csvfile:\n",
        "  reader = csv.reader(csvfile)\n",
        "  #drop first 3 lines\n",
        "  next(reader)\n",
        "  next(reader)\n",
        "  next(reader)\n",
        "  #create dictionary\n",
        "  for row in reader:\n",
        "    if row[1] in dic:\n",
        "      dic[row[1]] += int(row[2])\n",
        "    else:\n",
        "      dic[row[1]] = int(row[2])\n",
        "  csvfile.close()\n",
        "\n",
        "# Ponctuation :\n",
        "\n",
        "dic[', '] = 150000\n",
        "dic['. '] = 150000\n",
        "\n",
        "dic = dict(sorted(dic.items(), key=lambda item: item[1], reverse=True))\n",
        "dic = {k: dic[k] for k in list(dic)[:256]} # In order to code the dictionnary on only 2 other bytes with most frequent words\n",
        "offset = 256\n",
        "i = 0\n",
        "for key in dic:\n",
        "  dic[key] = convertToNineBits(convertToBinary(offset + i))\n",
        "  offset += 1\n",
        "dic2 = {}\n",
        "offset = 256\n",
        "for key in dicByHugo:\n",
        "  dic2[key] = convertToNineBits(convertToBinary(offset + i))\n",
        "  offset += 1\n",
        "dic3 = {}\n",
        "offset = 256\n",
        "for key in dicByHugoMax:\n",
        "  dic3[key] = convertToNineBits(convertToBinary(offset + i))\n",
        "  offset += 1\n",
        "\n",
        "print(dic3)\n",
        "\n",
        "reverted_dic = {v: k for k, v in dic.items()}\n",
        "reverted_dic2 = {v: k for k, v in dic2.items()}\n",
        "reverted_dic3 = {v: k for k, v in dic3.items()}\n",
        "\n",
        "print(reverted_dic3)"
      ],
      "metadata": {
        "colab": {
          "base_uri": "https://localhost:8080/"
        },
        "id": "awJCxj_ArQG9",
        "outputId": "f8daab8f-215e-4c98-aa7b-17e896fbb90d"
      },
      "execution_count": 104,
      "outputs": [
        {
          "output_type": "stream",
          "name": "stdout",
          "text": [
            "{'  ': '100000000', 'e ': '100000001', 's ': '100000010', 't ': '100000011', ' d': '100000100', ', ': '100000101', 'ai': '100000110', 'es': '100000111', ' l': '100001000', 'le': '100001001', 'en': '100001010', 're': '100001011', 'ou': '100001100', 'de': '100001101', ' s': '100001110', 'nt': '100001111', 'it': '100010000', ' p': '100010001', 'on': '100010010', ' c': '100010011', 'an': '100010100', 'n ': '100010101', ' e': '100010110', 'ur': '100010111', 'te': '100011000', 'er': '100011001', 'is': '100011010', 'r ': '100011011', '\\n ': '100011100', ' a': '100011101', '\\n\\n': '100011110', 'a ': '100011111', 'qu': '100100000', '   ': '100100001', 'se': '100100010', 'ne': '100100011', 'et': '100100100', ' m': '100100101', 'me': '100100110', 'la': '100100111', ' de': '100101000', 'ie': '100101001', 'il': '100101010', 'e  ': '100101011', 'eu': '100101100', ' t': '100101101', 'ra': '100101110', 'ar': '100101111', 'in': '100110000', 'll': '100110001', 'ui': '100110010', 'l ': '100110011', 'es ': '100110100', 'un': '100110101', '. ': '100110110', '\\n  ': '100110111', ' f': '100111000', 'us': '100111001', '\\n\\n ': '100111010', '\\n\\n\\n': '100111011', 'co': '100111100', ' q': '100111101', ' r': '100111110', ' v': '100111111', 'tr': '101000000', 'pa': '101000001', 'ns': '101000010', 'ue': '101000011', 'it ': '101000100', 'oi': '101000101', 'ait': '101000110', 'e,': '101000111', 'ce': '101001000', 'sa': '101001001', 'de ': '101001010', 've': '101001011', 'le ': '101001100', 'i ': '101001101', 'ta': '101001110', 'ut': '101001111', 'ri': '101010000', 'au': '101010001', 'u ': '101010010', 'ch': '101010011', 'em': '101010100', 'nd': '101010101', 's  ': '101010110', 'ti': '101010111', 'ir': '101011000', ' le': '101011001', 'ent': '101011010', 'ma': '101011011', 'ro': '101011100', 'so': '101011101', 'po': '101011110', ' u': '101011111', 'nt ': '101100000', 'el': '101100001', 't  ': '101100010', ' n': '101100011', 'or': '101100100', 'ss': '101100101', ' i': '101100110', ' b': '101100111', 's,': '101101000', ' qu': '101101001', '  d': '101101010', '.\\n': '101101011', 'om': '101101100', \"'a\": '101101101', 'av': '101101110', 'as': '101101111', 'vo': '101110000', 'va': '101110001', 'à ': '101110010', 'st': '101110011', 'lle': '101110100', 'e.': '101110101', 'pr': '101110110', 'to': '101110111', '«\\xa0': '101111000', ' à': '101111001', ' j': '101111010', 'ne ': '101111011', 'da': '101111100', ' «': '101111101', '\\xa0»': '101111110', 'e, ': '101111111', ',  ': '110000000', 'al': '110000001', 'lu': '110000010', 'si': '110000011', 'ant': '110000100', ' et': '110000101', 'et ': '110000110', 'mm': '110000111', 'pe': '110001000', '\\xa0:': '110001001', 'e\\n': '110001010', ' la': '110001011', '  l': '110001100', 'mo': '110001101', ' pa': '110001110', ' un': '110001111', 'la ': '110010000', 't,': '110010001', 'di': '110010010', \"l'\": '110010011', 'he': '110010100', 'Il': '110010101', 'our': '110010110', '»\\n': '110010111', 'rt': '110011000', \"d'\": '110011001', 'que': '110011010', ' se': '110011011', 're ': '110011100', \"'e\": '110011101', ' I': '110011110', ' co': '110011111', 'na': '110100000', 'ux': '110100001', '.\\xa0': '110100010', 's, ': '110100011', 'e d': '110100100', 'ré': '110100101', 'nc': '110100110', 'rs': '110100111', 'ais': '110101000', 'les': '110101001', 'is ': '110101010', 'mi': '110101011', 's.': '110101100', '  s': '110101101', 'il ': '110101110', 'ge': '110101111', 'on ': '110110000', 'li': '110110001', 'su': '110110010', 'ét': '110110011', 'ur ': '110110100', 'fa': '110110101', '  p': '110110110', 'at': '110110111', '.\\n\\n': '110111000', ' g': '110111001', ' «\\xa0': '110111010', ' E': '110111011', ' so': '110111100', ':\\n': '110111101', ' en': '110111110', 'er ': '110111111', 'vi': '111000000', 'ous': '111000001', 'ns ': '111000010', 'us ': '111000011', 'ien': '111000100', ' à ': '111000101', 'e s': '111000110', 'ec': '111000111', 'ha': '111001000', 'tt': '111001001', 'e\\xa0': '111001010', 'x ': '111001011', 's\\n': '111001100', '  c': '111001101', 'ée': '111001110', ' é': '111001111', 'é ': '111010000', 'une': '111010001', 'en ': '111010010', ' po': '111010011', 'un ': '111010100', \"u'\": '111010101', 'pl': '111010110', 'e l': '111010111', ' il': '111011000', '  e': '111011001', 'mme': '111011010', 'n  ': '111011011', ' o': '111011100', 'no': '111011101', 'te ': '111011110', 'uv': '111011111', 'ue ': '111100000', 'nn': '111100001', 'me ': '111100010', ' re': '111100011', 'je': '111100100', 'tre': '111100101', 'bl': '111100110', '\\xa0»\\n': '111100111', 'du': '111101000', '»\\n\\n': '111101001', 't d': '111101010', '  «': '111101011', 't, ': '111101100', 'lo': '111101101', 'eur': '111101110', 'ui ': '111101111', ' Il': '111110000', ' vo': '111110001', 'se ': '111110010', 's d': '111110011', 'par': '111110100', 'r  ': '111110101', 'ac': '111110110', 'res': '111110111', 'des': '111111000', 'dé': '111111001', ' ma': '111111010', \" l'\": '111111011', 'ez': '111111100', 'ap': '111111101', 'ell': '111111110', 'tou': '111111111'}\n",
            "{'100000000': '  ', '100000001': 'e ', '100000010': 's ', '100000011': 't ', '100000100': ' d', '100000101': ', ', '100000110': 'ai', '100000111': 'es', '100001000': ' l', '100001001': 'le', '100001010': 'en', '100001011': 're', '100001100': 'ou', '100001101': 'de', '100001110': ' s', '100001111': 'nt', '100010000': 'it', '100010001': ' p', '100010010': 'on', '100010011': ' c', '100010100': 'an', '100010101': 'n ', '100010110': ' e', '100010111': 'ur', '100011000': 'te', '100011001': 'er', '100011010': 'is', '100011011': 'r ', '100011100': '\\n ', '100011101': ' a', '100011110': '\\n\\n', '100011111': 'a ', '100100000': 'qu', '100100001': '   ', '100100010': 'se', '100100011': 'ne', '100100100': 'et', '100100101': ' m', '100100110': 'me', '100100111': 'la', '100101000': ' de', '100101001': 'ie', '100101010': 'il', '100101011': 'e  ', '100101100': 'eu', '100101101': ' t', '100101110': 'ra', '100101111': 'ar', '100110000': 'in', '100110001': 'll', '100110010': 'ui', '100110011': 'l ', '100110100': 'es ', '100110101': 'un', '100110110': '. ', '100110111': '\\n  ', '100111000': ' f', '100111001': 'us', '100111010': '\\n\\n ', '100111011': '\\n\\n\\n', '100111100': 'co', '100111101': ' q', '100111110': ' r', '100111111': ' v', '101000000': 'tr', '101000001': 'pa', '101000010': 'ns', '101000011': 'ue', '101000100': 'it ', '101000101': 'oi', '101000110': 'ait', '101000111': 'e,', '101001000': 'ce', '101001001': 'sa', '101001010': 'de ', '101001011': 've', '101001100': 'le ', '101001101': 'i ', '101001110': 'ta', '101001111': 'ut', '101010000': 'ri', '101010001': 'au', '101010010': 'u ', '101010011': 'ch', '101010100': 'em', '101010101': 'nd', '101010110': 's  ', '101010111': 'ti', '101011000': 'ir', '101011001': ' le', '101011010': 'ent', '101011011': 'ma', '101011100': 'ro', '101011101': 'so', '101011110': 'po', '101011111': ' u', '101100000': 'nt ', '101100001': 'el', '101100010': 't  ', '101100011': ' n', '101100100': 'or', '101100101': 'ss', '101100110': ' i', '101100111': ' b', '101101000': 's,', '101101001': ' qu', '101101010': '  d', '101101011': '.\\n', '101101100': 'om', '101101101': \"'a\", '101101110': 'av', '101101111': 'as', '101110000': 'vo', '101110001': 'va', '101110010': 'à ', '101110011': 'st', '101110100': 'lle', '101110101': 'e.', '101110110': 'pr', '101110111': 'to', '101111000': '«\\xa0', '101111001': ' à', '101111010': ' j', '101111011': 'ne ', '101111100': 'da', '101111101': ' «', '101111110': '\\xa0»', '101111111': 'e, ', '110000000': ',  ', '110000001': 'al', '110000010': 'lu', '110000011': 'si', '110000100': 'ant', '110000101': ' et', '110000110': 'et ', '110000111': 'mm', '110001000': 'pe', '110001001': '\\xa0:', '110001010': 'e\\n', '110001011': ' la', '110001100': '  l', '110001101': 'mo', '110001110': ' pa', '110001111': ' un', '110010000': 'la ', '110010001': 't,', '110010010': 'di', '110010011': \"l'\", '110010100': 'he', '110010101': 'Il', '110010110': 'our', '110010111': '»\\n', '110011000': 'rt', '110011001': \"d'\", '110011010': 'que', '110011011': ' se', '110011100': 're ', '110011101': \"'e\", '110011110': ' I', '110011111': ' co', '110100000': 'na', '110100001': 'ux', '110100010': '.\\xa0', '110100011': 's, ', '110100100': 'e d', '110100101': 'ré', '110100110': 'nc', '110100111': 'rs', '110101000': 'ais', '110101001': 'les', '110101010': 'is ', '110101011': 'mi', '110101100': 's.', '110101101': '  s', '110101110': 'il ', '110101111': 'ge', '110110000': 'on ', '110110001': 'li', '110110010': 'su', '110110011': 'ét', '110110100': 'ur ', '110110101': 'fa', '110110110': '  p', '110110111': 'at', '110111000': '.\\n\\n', '110111001': ' g', '110111010': ' «\\xa0', '110111011': ' E', '110111100': ' so', '110111101': ':\\n', '110111110': ' en', '110111111': 'er ', '111000000': 'vi', '111000001': 'ous', '111000010': 'ns ', '111000011': 'us ', '111000100': 'ien', '111000101': ' à ', '111000110': 'e s', '111000111': 'ec', '111001000': 'ha', '111001001': 'tt', '111001010': 'e\\xa0', '111001011': 'x ', '111001100': 's\\n', '111001101': '  c', '111001110': 'ée', '111001111': ' é', '111010000': 'é ', '111010001': 'une', '111010010': 'en ', '111010011': ' po', '111010100': 'un ', '111010101': \"u'\", '111010110': 'pl', '111010111': 'e l', '111011000': ' il', '111011001': '  e', '111011010': 'mme', '111011011': 'n  ', '111011100': ' o', '111011101': 'no', '111011110': 'te ', '111011111': 'uv', '111100000': 'ue ', '111100001': 'nn', '111100010': 'me ', '111100011': ' re', '111100100': 'je', '111100101': 'tre', '111100110': 'bl', '111100111': '\\xa0»\\n', '111101000': 'du', '111101001': '»\\n\\n', '111101010': 't d', '111101011': '  «', '111101100': 't, ', '111101101': 'lo', '111101110': 'eur', '111101111': 'ui ', '111110000': ' Il', '111110001': ' vo', '111110010': 'se ', '111110011': 's d', '111110100': 'par', '111110101': 'r  ', '111110110': 'ac', '111110111': 'res', '111111000': 'des', '111111001': 'dé', '111111010': ' ma', '111111011': \" l'\", '111111100': 'ez', '111111101': 'ap', '111111110': 'ell', '111111111': 'tou'}\n"
          ]
        }
      ]
    },
    {
      "cell_type": "code",
      "source": [
        "# class to build a tree defining all the possible  string in dic\n",
        "class SuffixTree():\n",
        "  class Node():\n",
        "    def __init__(self,char):\n",
        "      self.char = char\n",
        "      self.out = {}\n",
        "      self.isFinal = False\n",
        "    def __str__(self, level=0):\n",
        "      ret = \"  \" * level + str(self.char) + \"\\n\"\n",
        "      for c in self.out:\n",
        "        ret += self.out[c].__str__(level + 1)\n",
        "      return ret\n",
        "\n",
        "  def __init__(self, dic):\n",
        "    self.root = self.Node(None)\n",
        "    self.root.isFinal = True\n",
        "    for key in dic:\n",
        "      cursor = self.root\n",
        "      for c in key:\n",
        "        if c in cursor.out:\n",
        "          cursor = cursor.out[c]\n",
        "        else:\n",
        "          node = self.Node(c)\n",
        "          cursor.out[c] = node\n",
        "          cursor = node\n",
        "      cursor.isFinal = True\n",
        "  def longestPrefix(self, s):\n",
        "    cursor = self.root\n",
        "    word = ''\n",
        "    temp = ''\n",
        "    end = False\n",
        "    i = 0\n",
        "    length = len(s)\n",
        "    while not(end) and i < length:\n",
        "      if s[i] in cursor.out:\n",
        "        temp = temp + s[i]\n",
        "        cursor = cursor.out[s[i]]\n",
        "        if cursor.isFinal:\n",
        "          word = temp\n",
        "        i += 1\n",
        "      else:\n",
        "        end = True\n",
        "    return word\n",
        "  def __str__(self):\n",
        "    return f'{self.root}'\n",
        "\n",
        "s = SuffixTree({'ab' : 1, 'abc': 2, 'coucou' : 5, 'aba' : 4, 'aaa' : 8})\n",
        "print(s)\n",
        "s.longestPrefix('abdc')\n",
        "    \n"
      ],
      "metadata": {
        "colab": {
          "base_uri": "https://localhost:8080/",
          "height": 291
        },
        "id": "ND_fSFhFq51O",
        "outputId": "0eda6e82-5919-4f73-fbd8-f8c682e8f484"
      },
      "execution_count": 12,
      "outputs": [
        {
          "output_type": "stream",
          "name": "stdout",
          "text": [
            "None\n",
            "  a\n",
            "    b\n",
            "      c\n",
            "      a\n",
            "    a\n",
            "      a\n",
            "  c\n",
            "    o\n",
            "      u\n",
            "        c\n",
            "          o\n",
            "            u\n",
            "\n"
          ]
        },
        {
          "output_type": "execute_result",
          "data": {
            "text/plain": [
              "'ab'"
            ],
            "application/vnd.google.colaboratory.intrinsic+json": {
              "type": "string"
            }
          },
          "metadata": {},
          "execution_count": 12
        }
      ]
    },
    {
      "cell_type": "code",
      "source": [
        "tree = SuffixTree(dic)\n",
        "tree2 = SuffixTree(dic2)\n",
        "tree3 = SuffixTree(dic3)"
      ],
      "metadata": {
        "id": "FgOeftRxAILs"
      },
      "execution_count": 107,
      "outputs": []
    },
    {
      "cell_type": "code",
      "source": [
        "# First implementation with first dictionnary\n",
        "\n",
        "def compress(string, tree, dic):\n",
        "  i = 0\n",
        "  ret = ''\n",
        "  while i<len(string):\n",
        "    temp = tree.longestPrefix(string[i:])\n",
        "    n = len(temp)\n",
        "    if n == 0:\n",
        "      bit = convertToNineBits(convertToBinary(ord(string[i])))\n",
        "      ret += bit\n",
        "      i += 1\n",
        "    else:\n",
        "      bit = dic[temp]\n",
        "      ret += bit\n",
        "      i += n\n",
        "  return ret\n",
        "\n",
        "\n",
        "\n",
        "def decompress(string, dic):\n",
        "  ret = ''\n",
        "  for i in range(0, len(string) - 1, 9):\n",
        "    if int(string[i : i + 9], 2) > 255:\n",
        "      ret += dic[string[i : i + 9]]\n",
        "    else:\n",
        "      ret += chr(int(string[i : i + 9], 2))\n",
        "  return ret"
      ],
      "metadata": {
        "id": "d22Anv76pQBY"
      },
      "execution_count": 96,
      "outputs": []
    },
    {
      "cell_type": "code",
      "source": [
        "compressed = compress(text, tree, dic)\n",
        "\n",
        "decompressed = decompress(compressed, reverted_dic)\n",
        "\n",
        "\n",
        "print(f'Le fichier avant décompression faisait {len(text) * 8} octets et celui compressé fait {len(compressed)} octets')\n",
        "print(f'Le taux de compression est donc de {len(text) * 8 / len(compressed)}')"
      ],
      "metadata": {
        "colab": {
          "base_uri": "https://localhost:8080/"
        },
        "id": "y394yPYxZrGi",
        "outputId": "19b7e47c-3d6b-4438-c662-3fbc90651d0f"
      },
      "execution_count": 86,
      "outputs": [
        {
          "output_type": "stream",
          "name": "stdout",
          "text": [
            "Le fichier avant décompression faisait 5445800 octets et celui compressé fait 5363739 octets\n",
            "Le taux de compression est donc de 1.0152992157150078\n"
          ]
        }
      ]
    },
    {
      "cell_type": "code",
      "source": [
        "compressed2 = compress(text, tree2, dic2)\n",
        "\n",
        "decompressed2 = decompress(compressed, reverted_dic2)\n",
        "\n",
        "\n",
        "print(f'Le fichier avant décompression faisait {len(text) * 8} octets et celui compressé fait {len(compressed2)} octets')\n",
        "print(f'Le taux de compression est donc de {len(text) * 8 / len(compressed2)}')"
      ],
      "metadata": {
        "colab": {
          "base_uri": "https://localhost:8080/"
        },
        "id": "wntOWF28ZyVg",
        "outputId": "35d716c0-dc18-470e-bdf3-dd97c9b9bf56"
      },
      "execution_count": 99,
      "outputs": [
        {
          "output_type": "stream",
          "name": "stdout",
          "text": [
            "Le fichier avant décompression faisait 5445800 octets et celui compressé fait 3425643 octets\n",
            "Le taux de compression est donc de 1.5897161496396444\n"
          ]
        }
      ]
    },
    {
      "cell_type": "code",
      "source": [
        "compressed3 = compress(text, tree3, dic3)\n",
        "\n",
        "decompressed3 = decompress(compressed, reverted_dic3)\n",
        "\n",
        "\n",
        "print(f'Le fichier avant décompression faisait {len(text) * 8} octets et celui compressé fait {len(compressed3)} octets')\n",
        "print(f'Le taux de compression est donc de {len(text) * 8 / len(compressed3)}')"
      ],
      "metadata": {
        "colab": {
          "base_uri": "https://localhost:8080/"
        },
        "id": "L_g1-f2Yk27Z",
        "outputId": "2c99ca52-53db-4146-e830-486ac9c789bb"
      },
      "execution_count": 108,
      "outputs": [
        {
          "output_type": "stream",
          "name": "stdout",
          "text": [
            "Le fichier avant décompression faisait 5445800 octets et celui compressé fait 3055878 octets\n",
            "Le taux de compression est donc de 1.7820737607980424\n"
          ]
        }
      ]
    },
    {
      "cell_type": "code",
      "source": [
        "print(len(compressed3))\n",
        "print(len(compressed2))\n",
        "print(dic2==dic3)"
      ],
      "metadata": {
        "colab": {
          "base_uri": "https://localhost:8080/"
        },
        "id": "zvSLBuoulsud",
        "outputId": "78b05afc-82dc-44f1-dcd6-ff3237f0ea70"
      },
      "execution_count": 105,
      "outputs": [
        {
          "output_type": "stream",
          "name": "stdout",
          "text": [
            "3425643\n",
            "3425643\n",
            "False\n"
          ]
        }
      ]
    },
    {
      "cell_type": "code",
      "source": [
        "ord('à')\n",
        "\n"
      ],
      "metadata": {
        "colab": {
          "base_uri": "https://localhost:8080/"
        },
        "id": "UnVeWW41rMzm",
        "outputId": "6ad283de-341d-42d5-fde4-db8ad550ec17"
      },
      "execution_count": 130,
      "outputs": [
        {
          "output_type": "execute_result",
          "data": {
            "text/plain": [
              "224"
            ]
          },
          "metadata": {},
          "execution_count": 130
        }
      ]
    }
  ]
}