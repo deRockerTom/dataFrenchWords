{
  "nbformat": 4,
  "nbformat_minor": 0,
  "metadata": {
    "colab": {
      "name": "Untitled0.ipynb",
      "provenance": [],
      "collapsed_sections": [],
      "authorship_tag": "ABX9TyMTJxfxqwR5ckWIvgUEFVYi",
      "include_colab_link": true
    },
    "kernelspec": {
      "name": "python3",
      "display_name": "Python 3"
    },
    "language_info": {
      "name": "python"
    }
  },
  "cells": [
    {
      "cell_type": "markdown",
      "metadata": {
        "id": "view-in-github",
        "colab_type": "text"
      },
      "source": [
        "<a href=\"https://colab.research.google.com/github/deRockerTom/dataFrenchWords/blob/main/compressFrenchFile.ipynb\" target=\"_parent\"><img src=\"https://colab.research.google.com/assets/colab-badge.svg\" alt=\"Open In Colab\"/></a>"
      ]
    },
    {
      "cell_type": "code",
      "source": [
        "!git clone https://github.com/deRockerTom/dataFrenchWords"
      ],
      "metadata": {
        "colab": {
          "base_uri": "https://localhost:8080/"
        },
        "id": "scT0RXv3qF9z",
        "outputId": "469024ab-b8bc-45ac-bea8-9ec6fa4b3c64"
      },
      "execution_count": 1,
      "outputs": [
        {
          "output_type": "stream",
          "name": "stdout",
          "text": [
            "Cloning into 'dataFrenchWords'...\n",
            "remote: Enumerating objects: 25, done.\u001b[K\n",
            "remote: Counting objects: 100% (25/25), done.\u001b[K\n",
            "remote: Compressing objects: 100% (25/25), done.\u001b[K\n",
            "remote: Total 25 (delta 9), reused 0 (delta 0), pack-reused 0\u001b[K\n",
            "Unpacking objects: 100% (25/25), done.\n"
          ]
        }
      ]
    },
    {
      "cell_type": "code",
      "source": [
        "!pip install textract"
      ],
      "metadata": {
        "id": "idoV1rZ_Jj0J"
      },
      "execution_count": null,
      "outputs": []
    },
    {
      "cell_type": "code",
      "source": [
        "!sudo apt-get install antiword"
      ],
      "metadata": {
        "colab": {
          "base_uri": "https://localhost:8080/"
        },
        "id": "33bs4hiFJxhM",
        "outputId": "8797832e-c014-4346-f1a3-e9e0a93ea1ac"
      },
      "execution_count": 5,
      "outputs": [
        {
          "output_type": "stream",
          "name": "stdout",
          "text": [
            "Reading package lists... Done\n",
            "Building dependency tree       \n",
            "Reading state information... Done\n",
            "The following package was automatically installed and is no longer required:\n",
            "  libnvidia-common-460\n",
            "Use 'sudo apt autoremove' to remove it.\n",
            "The following NEW packages will be installed:\n",
            "  antiword\n",
            "0 upgraded, 1 newly installed, 0 to remove and 49 not upgraded.\n",
            "Need to get 128 kB of archives.\n",
            "After this operation, 633 kB of additional disk space will be used.\n",
            "Get:1 http://archive.ubuntu.com/ubuntu bionic/universe amd64 antiword amd64 0.37-11build1 [128 kB]\n",
            "Fetched 128 kB in 0s (306 kB/s)\n",
            "debconf: unable to initialize frontend: Dialog\n",
            "debconf: (No usable dialog-like program is installed, so the dialog based frontend cannot be used. at /usr/share/perl5/Debconf/FrontEnd/Dialog.pm line 76, <> line 1.)\n",
            "debconf: falling back to frontend: Readline\n",
            "debconf: unable to initialize frontend: Readline\n",
            "debconf: (This frontend requires a controlling tty.)\n",
            "debconf: falling back to frontend: Teletype\n",
            "dpkg-preconfigure: unable to re-open stdin: \n",
            "Selecting previously unselected package antiword.\n",
            "(Reading database ... 155639 files and directories currently installed.)\n",
            "Preparing to unpack .../antiword_0.37-11build1_amd64.deb ...\n",
            "Unpacking antiword (0.37-11build1) ...\n",
            "Setting up antiword (0.37-11build1) ...\n",
            "Processing triggers for man-db (2.8.3-2ubuntu0.1) ...\n",
            "Processing triggers for hicolor-icon-theme (0.17-2) ...\n",
            "Processing triggers for mime-support (3.60ubuntu1) ...\n"
          ]
        }
      ]
    },
    {
      "cell_type": "code",
      "source": [
        "import textract\n",
        "text = textract.process(\"maupassant_bel_ami_illustre.doc\")\n",
        "text = text.decode(\"utf-8\")\n",
        "text = text.replace('’', '\\'').replace('–', '-').replace('…', '...').replace('‘', '\\'')"
      ],
      "metadata": {
        "id": "m-h39iUgJbvv"
      },
      "execution_count": 35,
      "outputs": []
    },
    {
      "cell_type": "code",
      "source": [
        "# Create a dictionnary with text with 256 most frequent substrings of n char\n",
        "\n",
        "def createDic(string, n):\n",
        "  dic = {}\n",
        "  for i in range(len(string) - n):\n",
        "    dic[string[i:i + n]] = string.count(string[i:i + n])\n",
        "  # dic = dict(sorted(dic.items(), key=lambda item: item[1], reverse=True))\n",
        "  dic = {k: v for k, v in sorted(dic.items(), key=lambda item: item[1], reverse=True)}\n",
        "  dic = {k: dic[k] for k in list(dic)[:256]} # In order to code the dictionnary on only 2 other bytes with most frequent words\n",
        "  return dic\n",
        "test = \"ceci est un test pour voir si la fonction marche bien ou pas donc yolo ce qu\\il y a d\\'écrit de veut rien dire et on s\\'en fiche c\\'est juste pour le test\"\n",
        "dic = createDic(text, 3)\n",
        "print(dic)"
      ],
      "metadata": {
        "colab": {
          "base_uri": "https://localhost:8080/"
        },
        "id": "ZsUP8YnEOH--",
        "outputId": "76330fcf-d0d3-4862-b93c-2c43efb24a11"
      },
      "execution_count": 60,
      "outputs": [
        {
          "output_type": "stream",
          "name": "stdout",
          "text": [
            "{'   ': 6274, ' de': 5924, 'e  ': 5540, 'es ': 5000, '\\n  ': 4644, '\\n\\n ': 4578, '\\n\\n\\n': 4539, 'it ': 4254, 'ait': 4143, 'de ': 3876, 'le ': 3797, 's  ': 3569, ' le': 3502, 'ent': 3467, 'nt ': 3345, 't  ': 3332, ' qu': 2994, '  d': 2981, 'lle': 2693, 'ne ': 2653, 'e, ': 2577, ',  ': 2522, 'ant': 2461, ' et': 2456, 'et ': 2455, ' la': 2347, '  l': 2330, ' pa': 2261, ' un': 2235, 'la ': 2190, 'our': 2106, ' se': 2085, 'que': 2084, 're ': 2076, ' co': 2051, 's, ': 1932, 'e d': 1913, 'ais': 1902, 'les': 1900, 'is ': 1900, '  s': 1847, 'il ': 1847, 'on ': 1830, 'ur ': 1784, '  p': 1772, '.\\n\\n': 1763, ' «\\xa0': 1727, ' so': 1715, ' en': 1693, 'er ': 1689, 'ous': 1664, 'ns ': 1641, 'us ': 1641, 'ien': 1636, ' à ': 1628, 'e s': 1625, '  c': 1584, 'une': 1551, 'en ': 1543, ' po': 1535, 'un ': 1532, 'e l': 1477, ' il': 1475, '  e': 1465, 'mme': 1460, 'n  ': 1459, 'te ': 1445, 'ue ': 1433, 'me ': 1421, ' re': 1418, 'tre': 1401, '\\xa0»\\n': 1392, '»\\n\\n': 1382, 't d': 1379, '  «': 1379, 't, ': 1372, 'eur': 1355, 'ui ': 1345, ' Il': 1338, ' vo': 1335, 'se ': 1332, 's d': 1332, 'par': 1325, 'r  ': 1324, 'res': 1308, 'des': 1306, ' ma': 1284, \" l'\": 1282, 'ell': 1273, 'tou': 1270, ' to': 1267, 'e p': 1264, ' sa': 1259, \" d'\": 1245, '  a': 1230, 'Il ': 1229, ' ce': 1225, 'ans': 1217, ' av': 1213, 'omm': 1188, 'men': 1182, 'tai': 1175, 'est': 1173, '.\\xa0»': 1171, ' mo': 1152, 'rai': 1132, '\\xa0:\\n': 1131, ' ch': 1128, 'out': 1110, 'che': 1104, 'e c': 1092, 'dan': 1091, ':\\n\\n': 1074, ' au': 1050, 'ut ': 1043, 'pou': 1037, 'a  ': 1036, 'vai': 1033, 't l': 1030, 'son': 1025, 'com': 1010, 's l': 1004, ' su': 988, ' pe': 986, ' pr': 982, 'qui': 981, \"qu'\": 971, 'ce ': 962, ', e': 960, '  m': 959, 'pas': 958, 'eux': 957, 'nte': 945, 'mai': 939, 'vou': 931, 'ren': 910, '  I': 902, ' ne': 897, 'ux ': 895, '.  ': 892, 'end': 891, ' fa': 890, 'ire': 864, 'con': 860, 'ave': 857, '  q': 856, '  t': 855, ' tr': 854, ' da': 854, 'ill': 845, ' lu': 839, 't p': 837, 'e m': 829, 'lui': 827, 'eme': 822, ' je': 813, 'uis': 809, 'ain': 808, 'ouv': 800, '  f': 796, 'ran': 795, 'ons': 793, 'ava': 790, 't s': 788, 'e. ': 780, '  E': 774, 'es,': 772, 'and': 768, 'lai': 766, 'e t': 760, 'l  ': 759, 's p': 755, 'sse': 751, 'éta': 750, 'ion': 748, 'e e': 746, 'e v': 746, 'cha': 745, 'as ': 744, 'r, ': 739, \" s'\": 737, 'ort': 732, 'ont': 728, ' di': 727, 'ir ': 724, 'sai': 723, 'tte': 716, 'aie': 714, 'e f': 711, 'ure': 708, 'e r': 704, 'ère': 704, 'rs ': 704, 'onn': 700, 'ten': 699, '  v': 694, 's s': 691, 'sur': 682, '  r': 679, 'r l': 678, 'ter': 673, 'Ell': 672, ' pl': 667, ' du': 661, 'int': 660, 'fai': 659, ', d': 651, 'i  ': 645, ' El': 644, 'ier': 641, 'sa ': 639, \"'un\": 635, 'cou': 635, 'ser': 626, 'ond': 625, 'jou': 624, 'du ': 623, 'ett': 621, 'tes': 620, 's c': 619, 'vec': 618, 'san': 616, '  u': 615, ' vi': 615, 'iss': 612, 'air': 611, 's e': 610, \"'es\": 610, 'ses': 608, 's a': 607, 'u  ': 607, 'au ': 605, 'je ': 601, 'voi': 601, ' no': 601, 'ssa': 599, ' dé': 599, '...': 597, 'e.\\n': 596, 'urs': 595, 'ass': 593, ' do': 591, 't e': 590, 'ec ': 589, \"l'a\": 589, 'ver': 588, 'sou': 587, 'mon': 584, 'aut': 584, 'n, ': 580, ' el': 580, 'st ': 576, 'dit': 571, '  i': 568, 'tro': 567, 'ieu': 563}\n"
          ]
        }
      ]
    },
    {
      "cell_type": "code",
      "source": [
        "dicByHugo = dic"
      ],
      "metadata": {
        "id": "2aO1zKRMWRKQ"
      },
      "execution_count": 61,
      "outputs": []
    },
    {
      "cell_type": "code",
      "source": [
        "x = {1: 2, 3: 4, 4: 3, 2: 1, 0: 0}\n",
        "dict(sorted(x.items(), key=lambda item: item[1]))"
      ],
      "metadata": {
        "colab": {
          "base_uri": "https://localhost:8080/"
        },
        "id": "je-1LcAqR78T",
        "outputId": "a648bff0-ad64-4bc1-8137-8103bc92dee8"
      },
      "execution_count": 48,
      "outputs": [
        {
          "output_type": "execute_result",
          "data": {
            "text/plain": [
              "{0: 0, 1: 2, 2: 1, 3: 4, 4: 3}"
            ]
          },
          "metadata": {},
          "execution_count": 48
        }
      ]
    },
    {
      "cell_type": "code",
      "source": [
        "def convertToBinary(number):\n",
        "  binary = ''\n",
        "  while number > 0:\n",
        "    binary = str(number % 2) + binary\n",
        "    number = number // 2\n",
        "  return binary\n",
        "def convertToNineBits(bits):\n",
        "  n = len(bits)\n",
        "  if n < 9:\n",
        "    k = 9 - n\n",
        "    return str('0') * k + bits\n",
        "  elif n == 9:\n",
        "    return bits\n",
        "  else:\n",
        "    print(\"Attention : un des encodages est trop grand (>9)\")\n",
        "    print(bits)\n",
        "\n",
        "convertToNineBits(convertToBinary(255))"
      ],
      "metadata": {
        "colab": {
          "base_uri": "https://localhost:8080/",
          "height": 36
        },
        "id": "3osK_tKk8uSu",
        "outputId": "6883ee74-f780-4cb4-e32b-a01ea30a72b9"
      },
      "execution_count": 17,
      "outputs": [
        {
          "output_type": "execute_result",
          "data": {
            "text/plain": [
              "'011111111'"
            ],
            "application/vnd.google.colaboratory.intrinsic+json": {
              "type": "string"
            }
          },
          "metadata": {},
          "execution_count": 17
        }
      ]
    },
    {
      "cell_type": "code",
      "source": [
        "import csv\n",
        "\n",
        "# open csv\n",
        "dic = {}\n",
        "with open('dataFrenchWords/french-word-list-verbs.csv', 'r') as csvfile:\n",
        "  reader = csv.reader(csvfile)\n",
        "  #drop first 3 lines\n",
        "  next(reader)\n",
        "  next(reader)\n",
        "  next(reader)\n",
        "  #create dictionary\n",
        "  for row in reader:\n",
        "    if row[1] in dic:\n",
        "      dic[row[1]] += int(row[2])\n",
        "    else:\n",
        "      dic[row[1]] = int(row[2])\n",
        "  csvfile.close()\n",
        "\n",
        "with open('dataFrenchWords/french-word-list-adjectives.csv', 'r') as csvfile:\n",
        "  reader = csv.reader(csvfile)\n",
        "  #drop first 3 lines\n",
        "  next(reader)\n",
        "  next(reader)\n",
        "  next(reader)\n",
        "  #create dictionary\n",
        "  for row in reader:\n",
        "    if row[1] in dic:\n",
        "      dic[row[1]] += int(row[2])\n",
        "    else:\n",
        "      dic[row[1]] = int(row[2])\n",
        "  csvfile.close()\n",
        "\n",
        "with open('dataFrenchWords/french-word-list-nouns.csv', 'r') as csvfile:\n",
        "  reader = csv.reader(csvfile)\n",
        "  #drop first 3 lines\n",
        "  next(reader)\n",
        "  next(reader)\n",
        "  next(reader)\n",
        "  #create dictionary\n",
        "  for row in reader:\n",
        "    if row[1] in dic:\n",
        "      dic[row[1]] += int(row[2])\n",
        "    else:\n",
        "      dic[row[1]] = int(row[2])\n",
        "  csvfile.close()\n",
        "\n",
        "# Ponctuation :\n",
        "\n",
        "dic[', '] = 150000\n",
        "dic['. '] = 150000\n",
        "\n",
        "dic = dict(sorted(dic.items(), key=lambda item: item[1], reverse=True))\n",
        "dic = {k: dic[k] for k in list(dic)[:256]} # In order to code the dictionnary on only 2 other bytes with most frequent words\n",
        "offset = 256\n",
        "i = 0\n",
        "for key in dic:\n",
        "  dic[key] = convertToNineBits(convertToBinary(offset + i))\n",
        "  offset += 1\n",
        "dic2 = {}\n",
        "offset = 256\n",
        "for key in dicByHugo:\n",
        "  dic2[key] = convertToNineBits(convertToBinary(offset + i))\n",
        "  offset += 1\n",
        "\n",
        "print(dic2)\n",
        "\n",
        "reverted_dic = {v: k for k, v in dic.items()}\n",
        "reverted_dic2 = {v: k for k, v in dic2.items()}\n",
        "\n",
        "print(reverted_dic2)"
      ],
      "metadata": {
        "colab": {
          "base_uri": "https://localhost:8080/"
        },
        "id": "awJCxj_ArQG9",
        "outputId": "9314de35-826f-4362-f039-1f50d15c155a"
      },
      "execution_count": 80,
      "outputs": [
        {
          "output_type": "stream",
          "name": "stdout",
          "text": [
            "{'   ': '100000000', ' de': '100000001', 'e  ': '100000010', 'es ': '100000011', '\\n  ': '100000100', '\\n\\n ': '100000101', '\\n\\n\\n': '100000110', 'it ': '100000111', 'ait': '100001000', 'de ': '100001001', 'le ': '100001010', 's  ': '100001011', ' le': '100001100', 'ent': '100001101', 'nt ': '100001110', 't  ': '100001111', ' qu': '100010000', '  d': '100010001', 'lle': '100010010', 'ne ': '100010011', 'e, ': '100010100', ',  ': '100010101', 'ant': '100010110', ' et': '100010111', 'et ': '100011000', ' la': '100011001', '  l': '100011010', ' pa': '100011011', ' un': '100011100', 'la ': '100011101', 'our': '100011110', ' se': '100011111', 'que': '100100000', 're ': '100100001', ' co': '100100010', 's, ': '100100011', 'e d': '100100100', 'ais': '100100101', 'les': '100100110', 'is ': '100100111', '  s': '100101000', 'il ': '100101001', 'on ': '100101010', 'ur ': '100101011', '  p': '100101100', '.\\n\\n': '100101101', ' «\\xa0': '100101110', ' so': '100101111', ' en': '100110000', 'er ': '100110001', 'ous': '100110010', 'ns ': '100110011', 'us ': '100110100', 'ien': '100110101', ' à ': '100110110', 'e s': '100110111', '  c': '100111000', 'une': '100111001', 'en ': '100111010', ' po': '100111011', 'un ': '100111100', 'e l': '100111101', ' il': '100111110', '  e': '100111111', 'mme': '101000000', 'n  ': '101000001', 'te ': '101000010', 'ue ': '101000011', 'me ': '101000100', ' re': '101000101', 'tre': '101000110', '\\xa0»\\n': '101000111', '»\\n\\n': '101001000', 't d': '101001001', '  «': '101001010', 't, ': '101001011', 'eur': '101001100', 'ui ': '101001101', ' Il': '101001110', ' vo': '101001111', 'se ': '101010000', 's d': '101010001', 'par': '101010010', 'r  ': '101010011', 'res': '101010100', 'des': '101010101', ' ma': '101010110', \" l'\": '101010111', 'ell': '101011000', 'tou': '101011001', ' to': '101011010', 'e p': '101011011', ' sa': '101011100', \" d'\": '101011101', '  a': '101011110', 'Il ': '101011111', ' ce': '101100000', 'ans': '101100001', ' av': '101100010', 'omm': '101100011', 'men': '101100100', 'tai': '101100101', 'est': '101100110', '.\\xa0»': '101100111', ' mo': '101101000', 'rai': '101101001', '\\xa0:\\n': '101101010', ' ch': '101101011', 'out': '101101100', 'che': '101101101', 'e c': '101101110', 'dan': '101101111', ':\\n\\n': '101110000', ' au': '101110001', 'ut ': '101110010', 'pou': '101110011', 'a  ': '101110100', 'vai': '101110101', 't l': '101110110', 'son': '101110111', 'com': '101111000', 's l': '101111001', ' su': '101111010', ' pe': '101111011', ' pr': '101111100', 'qui': '101111101', \"qu'\": '101111110', 'ce ': '101111111', ', e': '110000000', '  m': '110000001', 'pas': '110000010', 'eux': '110000011', 'nte': '110000100', 'mai': '110000101', 'vou': '110000110', 'ren': '110000111', '  I': '110001000', ' ne': '110001001', 'ux ': '110001010', '.  ': '110001011', 'end': '110001100', ' fa': '110001101', 'ire': '110001110', 'con': '110001111', 'ave': '110010000', '  q': '110010001', '  t': '110010010', ' tr': '110010011', ' da': '110010100', 'ill': '110010101', ' lu': '110010110', 't p': '110010111', 'e m': '110011000', 'lui': '110011001', 'eme': '110011010', ' je': '110011011', 'uis': '110011100', 'ain': '110011101', 'ouv': '110011110', '  f': '110011111', 'ran': '110100000', 'ons': '110100001', 'ava': '110100010', 't s': '110100011', 'e. ': '110100100', '  E': '110100101', 'es,': '110100110', 'and': '110100111', 'lai': '110101000', 'e t': '110101001', 'l  ': '110101010', 's p': '110101011', 'sse': '110101100', 'éta': '110101101', 'ion': '110101110', 'e e': '110101111', 'e v': '110110000', 'cha': '110110001', 'as ': '110110010', 'r, ': '110110011', \" s'\": '110110100', 'ort': '110110101', 'ont': '110110110', ' di': '110110111', 'ir ': '110111000', 'sai': '110111001', 'tte': '110111010', 'aie': '110111011', 'e f': '110111100', 'ure': '110111101', 'e r': '110111110', 'ère': '110111111', 'rs ': '111000000', 'onn': '111000001', 'ten': '111000010', '  v': '111000011', 's s': '111000100', 'sur': '111000101', '  r': '111000110', 'r l': '111000111', 'ter': '111001000', 'Ell': '111001001', ' pl': '111001010', ' du': '111001011', 'int': '111001100', 'fai': '111001101', ', d': '111001110', 'i  ': '111001111', ' El': '111010000', 'ier': '111010001', 'sa ': '111010010', \"'un\": '111010011', 'cou': '111010100', 'ser': '111010101', 'ond': '111010110', 'jou': '111010111', 'du ': '111011000', 'ett': '111011001', 'tes': '111011010', 's c': '111011011', 'vec': '111011100', 'san': '111011101', '  u': '111011110', ' vi': '111011111', 'iss': '111100000', 'air': '111100001', 's e': '111100010', \"'es\": '111100011', 'ses': '111100100', 's a': '111100101', 'u  ': '111100110', 'au ': '111100111', 'je ': '111101000', 'voi': '111101001', ' no': '111101010', 'ssa': '111101011', ' dé': '111101100', '...': '111101101', 'e.\\n': '111101110', 'urs': '111101111', 'ass': '111110000', ' do': '111110001', 't e': '111110010', 'ec ': '111110011', \"l'a\": '111110100', 'ver': '111110101', 'sou': '111110110', 'mon': '111110111', 'aut': '111111000', 'n, ': '111111001', ' el': '111111010', 'st ': '111111011', 'dit': '111111100', '  i': '111111101', 'tro': '111111110', 'ieu': '111111111'}\n",
            "{'100000000': '   ', '100000001': ' de', '100000010': 'e  ', '100000011': 'es ', '100000100': '\\n  ', '100000101': '\\n\\n ', '100000110': '\\n\\n\\n', '100000111': 'it ', '100001000': 'ait', '100001001': 'de ', '100001010': 'le ', '100001011': 's  ', '100001100': ' le', '100001101': 'ent', '100001110': 'nt ', '100001111': 't  ', '100010000': ' qu', '100010001': '  d', '100010010': 'lle', '100010011': 'ne ', '100010100': 'e, ', '100010101': ',  ', '100010110': 'ant', '100010111': ' et', '100011000': 'et ', '100011001': ' la', '100011010': '  l', '100011011': ' pa', '100011100': ' un', '100011101': 'la ', '100011110': 'our', '100011111': ' se', '100100000': 'que', '100100001': 're ', '100100010': ' co', '100100011': 's, ', '100100100': 'e d', '100100101': 'ais', '100100110': 'les', '100100111': 'is ', '100101000': '  s', '100101001': 'il ', '100101010': 'on ', '100101011': 'ur ', '100101100': '  p', '100101101': '.\\n\\n', '100101110': ' «\\xa0', '100101111': ' so', '100110000': ' en', '100110001': 'er ', '100110010': 'ous', '100110011': 'ns ', '100110100': 'us ', '100110101': 'ien', '100110110': ' à ', '100110111': 'e s', '100111000': '  c', '100111001': 'une', '100111010': 'en ', '100111011': ' po', '100111100': 'un ', '100111101': 'e l', '100111110': ' il', '100111111': '  e', '101000000': 'mme', '101000001': 'n  ', '101000010': 'te ', '101000011': 'ue ', '101000100': 'me ', '101000101': ' re', '101000110': 'tre', '101000111': '\\xa0»\\n', '101001000': '»\\n\\n', '101001001': 't d', '101001010': '  «', '101001011': 't, ', '101001100': 'eur', '101001101': 'ui ', '101001110': ' Il', '101001111': ' vo', '101010000': 'se ', '101010001': 's d', '101010010': 'par', '101010011': 'r  ', '101010100': 'res', '101010101': 'des', '101010110': ' ma', '101010111': \" l'\", '101011000': 'ell', '101011001': 'tou', '101011010': ' to', '101011011': 'e p', '101011100': ' sa', '101011101': \" d'\", '101011110': '  a', '101011111': 'Il ', '101100000': ' ce', '101100001': 'ans', '101100010': ' av', '101100011': 'omm', '101100100': 'men', '101100101': 'tai', '101100110': 'est', '101100111': '.\\xa0»', '101101000': ' mo', '101101001': 'rai', '101101010': '\\xa0:\\n', '101101011': ' ch', '101101100': 'out', '101101101': 'che', '101101110': 'e c', '101101111': 'dan', '101110000': ':\\n\\n', '101110001': ' au', '101110010': 'ut ', '101110011': 'pou', '101110100': 'a  ', '101110101': 'vai', '101110110': 't l', '101110111': 'son', '101111000': 'com', '101111001': 's l', '101111010': ' su', '101111011': ' pe', '101111100': ' pr', '101111101': 'qui', '101111110': \"qu'\", '101111111': 'ce ', '110000000': ', e', '110000001': '  m', '110000010': 'pas', '110000011': 'eux', '110000100': 'nte', '110000101': 'mai', '110000110': 'vou', '110000111': 'ren', '110001000': '  I', '110001001': ' ne', '110001010': 'ux ', '110001011': '.  ', '110001100': 'end', '110001101': ' fa', '110001110': 'ire', '110001111': 'con', '110010000': 'ave', '110010001': '  q', '110010010': '  t', '110010011': ' tr', '110010100': ' da', '110010101': 'ill', '110010110': ' lu', '110010111': 't p', '110011000': 'e m', '110011001': 'lui', '110011010': 'eme', '110011011': ' je', '110011100': 'uis', '110011101': 'ain', '110011110': 'ouv', '110011111': '  f', '110100000': 'ran', '110100001': 'ons', '110100010': 'ava', '110100011': 't s', '110100100': 'e. ', '110100101': '  E', '110100110': 'es,', '110100111': 'and', '110101000': 'lai', '110101001': 'e t', '110101010': 'l  ', '110101011': 's p', '110101100': 'sse', '110101101': 'éta', '110101110': 'ion', '110101111': 'e e', '110110000': 'e v', '110110001': 'cha', '110110010': 'as ', '110110011': 'r, ', '110110100': \" s'\", '110110101': 'ort', '110110110': 'ont', '110110111': ' di', '110111000': 'ir ', '110111001': 'sai', '110111010': 'tte', '110111011': 'aie', '110111100': 'e f', '110111101': 'ure', '110111110': 'e r', '110111111': 'ère', '111000000': 'rs ', '111000001': 'onn', '111000010': 'ten', '111000011': '  v', '111000100': 's s', '111000101': 'sur', '111000110': '  r', '111000111': 'r l', '111001000': 'ter', '111001001': 'Ell', '111001010': ' pl', '111001011': ' du', '111001100': 'int', '111001101': 'fai', '111001110': ', d', '111001111': 'i  ', '111010000': ' El', '111010001': 'ier', '111010010': 'sa ', '111010011': \"'un\", '111010100': 'cou', '111010101': 'ser', '111010110': 'ond', '111010111': 'jou', '111011000': 'du ', '111011001': 'ett', '111011010': 'tes', '111011011': 's c', '111011100': 'vec', '111011101': 'san', '111011110': '  u', '111011111': ' vi', '111100000': 'iss', '111100001': 'air', '111100010': 's e', '111100011': \"'es\", '111100100': 'ses', '111100101': 's a', '111100110': 'u  ', '111100111': 'au ', '111101000': 'je ', '111101001': 'voi', '111101010': ' no', '111101011': 'ssa', '111101100': ' dé', '111101101': '...', '111101110': 'e.\\n', '111101111': 'urs', '111110000': 'ass', '111110001': ' do', '111110010': 't e', '111110011': 'ec ', '111110100': \"l'a\", '111110101': 'ver', '111110110': 'sou', '111110111': 'mon', '111111000': 'aut', '111111001': 'n, ', '111111010': ' el', '111111011': 'st ', '111111100': 'dit', '111111101': '  i', '111111110': 'tro', '111111111': 'ieu'}\n"
          ]
        }
      ]
    },
    {
      "cell_type": "code",
      "source": [
        "chr(int('1000000000', 2))"
      ],
      "metadata": {
        "id": "XdNvV2Z3XBfg",
        "outputId": "1fe46997-074d-4b1a-a6d4-294e8f6b37c3",
        "colab": {
          "base_uri": "https://localhost:8080/",
          "height": 36
        }
      },
      "execution_count": 65,
      "outputs": [
        {
          "output_type": "execute_result",
          "data": {
            "text/plain": [
              "'Ȁ'"
            ],
            "application/vnd.google.colaboratory.intrinsic+json": {
              "type": "string"
            }
          },
          "metadata": {},
          "execution_count": 65
        }
      ]
    },
    {
      "cell_type": "code",
      "source": [
        "# class to build a tree defining all the possible  string in dic\n",
        "class SuffixTree():\n",
        "  class Node():\n",
        "    def __init__(self,char):\n",
        "      self.char = char\n",
        "      self.out = {}\n",
        "      self.isFinal = False\n",
        "    def __str__(self, level=0):\n",
        "      ret = \"  \" * level + str(self.char) + \"\\n\"\n",
        "      for c in self.out:\n",
        "        ret += self.out[c].__str__(level + 1)\n",
        "      return ret\n",
        "\n",
        "  def __init__(self, dic):\n",
        "    self.root = self.Node(None)\n",
        "    self.root.isFinal = True\n",
        "    for key in dic:\n",
        "      cursor = self.root\n",
        "      for c in key:\n",
        "        if c in cursor.out:\n",
        "          cursor = cursor.out[c]\n",
        "        else:\n",
        "          node = self.Node(c)\n",
        "          cursor.out[c] = node\n",
        "          cursor = node\n",
        "      cursor.isFinal = True\n",
        "  def longestPrefix(self, s):\n",
        "    cursor = self.root\n",
        "    word = ''\n",
        "    temp = ''\n",
        "    end = False\n",
        "    i = 0\n",
        "    length = len(s)\n",
        "    while not(end) and i < length:\n",
        "      if s[i] in cursor.out:\n",
        "        temp = temp + s[i]\n",
        "        cursor = cursor.out[s[i]]\n",
        "        if cursor.isFinal:\n",
        "          word = temp\n",
        "        i += 1\n",
        "      else:\n",
        "        end = True\n",
        "    return word\n",
        "  def __str__(self):\n",
        "    return f'{self.root}'\n",
        "\n",
        "s = SuffixTree({'ab' : 1, 'abc': 2, 'coucou' : 5, 'aba' : 4, 'aaa' : 8})\n",
        "print(s)\n",
        "s.longestPrefix('abdc')\n",
        "    \n"
      ],
      "metadata": {
        "colab": {
          "base_uri": "https://localhost:8080/",
          "height": 291
        },
        "id": "ND_fSFhFq51O",
        "outputId": "0eda6e82-5919-4f73-fbd8-f8c682e8f484"
      },
      "execution_count": 12,
      "outputs": [
        {
          "output_type": "stream",
          "name": "stdout",
          "text": [
            "None\n",
            "  a\n",
            "    b\n",
            "      c\n",
            "      a\n",
            "    a\n",
            "      a\n",
            "  c\n",
            "    o\n",
            "      u\n",
            "        c\n",
            "          o\n",
            "            u\n",
            "\n"
          ]
        },
        {
          "output_type": "execute_result",
          "data": {
            "text/plain": [
              "'ab'"
            ],
            "application/vnd.google.colaboratory.intrinsic+json": {
              "type": "string"
            }
          },
          "metadata": {},
          "execution_count": 12
        }
      ]
    },
    {
      "cell_type": "code",
      "source": [
        "tree = SuffixTree(dic)\n",
        "tree2 = SuffixTree(dic2)"
      ],
      "metadata": {
        "id": "FgOeftRxAILs"
      },
      "execution_count": 73,
      "outputs": []
    },
    {
      "cell_type": "code",
      "source": [
        "# First implementation with first dictionnary\n",
        "\n",
        "def compress(string, tree, dic):\n",
        "  i = 0\n",
        "  ret = ''\n",
        "  while i<len(string):\n",
        "    temp = tree.longestPrefix(string[i:])\n",
        "    n = len(temp)\n",
        "    if n == 0:\n",
        "      bit = convertToNineBits(convertToBinary(ord(string[i])))\n",
        "      ret += bit\n",
        "      i += 1\n",
        "    else:\n",
        "      bit = dic[temp]\n",
        "      ret += bit\n",
        "      i += n\n",
        "  return ret\n",
        "\n",
        "\n",
        "\n",
        "def decompress(string, dic):\n",
        "  ret = ''\n",
        "  for i in range(0, len(string) - 1, 9):\n",
        "    if int(string[i : i + 9], 2) > 255:\n",
        "      ret += dic[string[i : i + 9]]\n",
        "    else:\n",
        "      ret += chr(int(string[i : i + 9], 2))\n",
        "  return ret\n",
        "\n",
        "  \n"
      ],
      "metadata": {
        "colab": {
          "base_uri": "https://localhost:8080/",
          "height": 371
        },
        "id": "d22Anv76pQBY",
        "outputId": "3e1d5b9c-db7b-4742-b37c-684b551d7638"
      },
      "execution_count": 85,
      "outputs": [
        {
          "output_type": "error",
          "ename": "KeyboardInterrupt",
          "evalue": "ignored",
          "traceback": [
            "\u001b[0;31m---------------------------------------------------------------------------\u001b[0m",
            "\u001b[0;31mKeyboardInterrupt\u001b[0m                         Traceback (most recent call last)",
            "\u001b[0;32m<ipython-input-85-79630ccaddea>\u001b[0m in \u001b[0;36m<module>\u001b[0;34m()\u001b[0m\n\u001b[1;32m     19\u001b[0m   \u001b[0;32mreturn\u001b[0m \u001b[0mret\u001b[0m\u001b[0;34m\u001b[0m\u001b[0;34m\u001b[0m\u001b[0m\n\u001b[1;32m     20\u001b[0m \u001b[0;34m\u001b[0m\u001b[0m\n\u001b[0;32m---> 21\u001b[0;31m \u001b[0mcompressed\u001b[0m \u001b[0;34m=\u001b[0m \u001b[0mcompress\u001b[0m\u001b[0;34m(\u001b[0m\u001b[0mtext\u001b[0m\u001b[0;34m,\u001b[0m \u001b[0mtree2\u001b[0m\u001b[0;34m,\u001b[0m \u001b[0mdic2\u001b[0m\u001b[0;34m)\u001b[0m\u001b[0;34m\u001b[0m\u001b[0;34m\u001b[0m\u001b[0m\n\u001b[0m\u001b[1;32m     22\u001b[0m \u001b[0;34m\u001b[0m\u001b[0m\n\u001b[1;32m     23\u001b[0m \u001b[0;32mdef\u001b[0m \u001b[0mdecompress\u001b[0m\u001b[0;34m(\u001b[0m\u001b[0mstring\u001b[0m\u001b[0;34m,\u001b[0m \u001b[0mdic\u001b[0m\u001b[0;34m)\u001b[0m\u001b[0;34m:\u001b[0m\u001b[0;34m\u001b[0m\u001b[0;34m\u001b[0m\u001b[0m\n",
            "\u001b[0;32m<ipython-input-85-79630ccaddea>\u001b[0m in \u001b[0;36mcompress\u001b[0;34m(string, tree, dic)\u001b[0m\n\u001b[1;32m      7\u001b[0m   \u001b[0mret\u001b[0m \u001b[0;34m=\u001b[0m \u001b[0;34m''\u001b[0m\u001b[0;34m\u001b[0m\u001b[0;34m\u001b[0m\u001b[0m\n\u001b[1;32m      8\u001b[0m   \u001b[0;32mwhile\u001b[0m \u001b[0mi\u001b[0m\u001b[0;34m<\u001b[0m\u001b[0mlen\u001b[0m\u001b[0;34m(\u001b[0m\u001b[0mstring\u001b[0m\u001b[0;34m)\u001b[0m\u001b[0;34m:\u001b[0m\u001b[0;34m\u001b[0m\u001b[0;34m\u001b[0m\u001b[0m\n\u001b[0;32m----> 9\u001b[0;31m     \u001b[0mtemp\u001b[0m \u001b[0;34m=\u001b[0m \u001b[0mtree\u001b[0m\u001b[0;34m.\u001b[0m\u001b[0mlongestPrefix\u001b[0m\u001b[0;34m(\u001b[0m\u001b[0mstring\u001b[0m\u001b[0;34m[\u001b[0m\u001b[0mi\u001b[0m\u001b[0;34m:\u001b[0m\u001b[0;34m]\u001b[0m\u001b[0;34m)\u001b[0m\u001b[0;34m\u001b[0m\u001b[0;34m\u001b[0m\u001b[0m\n\u001b[0m\u001b[1;32m     10\u001b[0m     \u001b[0mn\u001b[0m \u001b[0;34m=\u001b[0m \u001b[0mlen\u001b[0m\u001b[0;34m(\u001b[0m\u001b[0mtemp\u001b[0m\u001b[0;34m)\u001b[0m\u001b[0;34m\u001b[0m\u001b[0;34m\u001b[0m\u001b[0m\n\u001b[1;32m     11\u001b[0m     \u001b[0;32mif\u001b[0m \u001b[0mn\u001b[0m \u001b[0;34m==\u001b[0m \u001b[0;36m0\u001b[0m\u001b[0;34m:\u001b[0m\u001b[0;34m\u001b[0m\u001b[0;34m\u001b[0m\u001b[0m\n",
            "\u001b[0;31mKeyboardInterrupt\u001b[0m: "
          ]
        }
      ]
    },
    {
      "cell_type": "code",
      "source": [
        "compressed = compress(text, tree, dic)\n",
        "\n",
        "decompressed = decompress(compressed, reverted_dic)\n",
        "\n",
        "\n",
        "print(f'Le fichier avant décompression faisait {len(text) * 8} octets et celui compressé fait {len(compressed)} octets')\n",
        "print(f'Le taux de compression est donc de {len(text) * 8 / len(compressed)}')"
      ],
      "metadata": {
        "id": "y394yPYxZrGi",
        "outputId": "19b7e47c-3d6b-4438-c662-3fbc90651d0f",
        "colab": {
          "base_uri": "https://localhost:8080/"
        }
      },
      "execution_count": 86,
      "outputs": [
        {
          "output_type": "stream",
          "name": "stdout",
          "text": [
            "Le fichier avant décompression faisait 5445800 octets et celui compressé fait 5363739 octets\n",
            "Le taux de compression est donc de 1.0152992157150078\n"
          ]
        }
      ]
    },
    {
      "cell_type": "code",
      "source": [
        "compressed2 = compress(text, tree2, dic2)\n",
        "\n",
        "decompressed2 = decompress(compressed, reverted_dic2)\n",
        "\n",
        "\n",
        "print(f'Le fichier avant décompression faisait {len(text) * 8} octets et celui compressé fait {len(compressed2)} octets')\n",
        "print(f'Le taux de compression est donc de {len(text) * 8 / len(compressed2)}')"
      ],
      "metadata": {
        "id": "wntOWF28ZyVg",
        "outputId": "850abb94-1c3f-46bb-b55f-ae41d9cd2645",
        "colab": {
          "base_uri": "https://localhost:8080/"
        }
      },
      "execution_count": 88,
      "outputs": [
        {
          "output_type": "stream",
          "name": "stdout",
          "text": [
            "Le fichier avant décompression faisait 5445800 octets et celui compressé fait 3425643 octets\n",
            "Le taux de compression est donc de 1.5897161496396444\n"
          ]
        }
      ]
    }
  ]
}