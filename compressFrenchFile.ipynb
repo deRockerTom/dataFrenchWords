{
  "nbformat": 4,
  "nbformat_minor": 0,
  "metadata": {
    "colab": {
      "name": "Untitled0.ipynb",
      "provenance": [],
      "collapsed_sections": [],
      "authorship_tag": "ABX9TyNNmwNQUHGnSUw1nXljVK3R",
      "include_colab_link": true
    },
    "kernelspec": {
      "name": "python3",
      "display_name": "Python 3"
    },
    "language_info": {
      "name": "python"
    }
  },
  "cells": [
    {
      "cell_type": "markdown",
      "metadata": {
        "id": "view-in-github",
        "colab_type": "text"
      },
      "source": [
        "<a href=\"https://colab.research.google.com/github/deRockerTom/dataFrenchWords/blob/main/compressFrenchFile.ipynb\" target=\"_parent\"><img src=\"https://colab.research.google.com/assets/colab-badge.svg\" alt=\"Open In Colab\"/></a>"
      ]
    },
    {
      "cell_type": "code",
      "source": [
        "!git clone https://github.com/deRockerTom/dataFrenchWords"
      ],
      "metadata": {
        "colab": {
          "base_uri": "https://localhost:8080/"
        },
        "id": "scT0RXv3qF9z",
        "outputId": "ddaba515-1f89-4512-ceb8-1c5626f25eb2"
      },
      "execution_count": 24,
      "outputs": [
        {
          "output_type": "stream",
          "name": "stdout",
          "text": [
            "Cloning into 'dataFrenchWords'...\n",
            "remote: Enumerating objects: 10, done.\u001b[K\n",
            "remote: Counting objects: 100% (10/10), done.\u001b[K\n",
            "remote: Compressing objects: 100% (10/10), done.\u001b[K\n",
            "remote: Total 10 (delta 2), reused 0 (delta 0), pack-reused 0\u001b[K\n",
            "Unpacking objects: 100% (10/10), done.\n"
          ]
        }
      ]
    },
    {
      "cell_type": "code",
      "source": [
        "!rm -rf dataFrenchWords/"
      ],
      "metadata": {
        "id": "fZikLiMA3ZFM"
      },
      "execution_count": 23,
      "outputs": []
    },
    {
      "cell_type": "code",
      "source": [
        "import csv\n",
        "\n",
        "# open csv\n",
        "dic = {}\n",
        "with open('dataFrenchWords/french-word-list-nouns.csv', 'r') as csvfile:\n",
        "  reader = csv.reader(csvfile)\n",
        "  #drop first 3 lines\n",
        "  next(reader)\n",
        "  next(reader)\n",
        "  next(reader)\n",
        "  #create dictionary\n",
        "  for row in reader:\n",
        "    if row[1] in dic:\n",
        "      dic[row[1]] += int(row[2])\n",
        "    else:\n",
        "      dic[row[1]] = int(row[2])\n",
        "  csvfile.close()\n",
        "\n",
        "with open('dataFrenchWords/french-word-list-adjectives.csv', 'r') as csvfile:\n",
        "  reader = csv.reader(csvfile)\n",
        "  #drop first 3 lines\n",
        "  next(reader)\n",
        "  next(reader)\n",
        "  next(reader)\n",
        "  #create dictionary\n",
        "  for row in reader:\n",
        "    if row[1] in dic:\n",
        "      dic[row[1]] += int(row[2])\n",
        "    else:\n",
        "      dic[row[1]] = int(row[2])\n",
        "  csvfile.close()\n",
        "\n",
        "with open('dataFrenchWords/french-word-list-nouns.csv', 'r') as csvfile:\n",
        "  reader = csv.reader(csvfile)\n",
        "  #drop first 3 lines\n",
        "  next(reader)\n",
        "  next(reader)\n",
        "  next(reader)\n",
        "  #create dictionary\n",
        "  for row in reader:\n",
        "    if row[1] in dic:\n",
        "      dic[row[1]] += int(row[2])\n",
        "    else:\n",
        "      dic[row[1]] = int(row[2])\n",
        "  csvfile.close()\n",
        "\n",
        "dic = dict(sorted(dic.items(), key=lambda item: item[1], reverse=True))\n",
        "print(dic)"
      ],
      "metadata": {
        "colab": {
          "base_uri": "https://localhost:8080/"
        },
        "id": "awJCxj_ArQG9",
        "outputId": "d544a4a2-a183-4cf6-dbee-0a52aae0d305"
      },
      "execution_count": 39,
      "outputs": [
        {
          "output_type": "stream",
          "name": "stdout",
          "text": [
            "{'autre': 311498, 'nouveau': 192744, 'grand': 191212, 'bon': 188301, 'petit': 161683, 'm?me': 133491, 'dernier': 109357, 'seul': 86629, 'beau': 79318, 'temps': 76926, 'jour': 72404, 'an': 70362, 'site': 70110, 'jeune': 68814, 'meilleur': 65608, 'jeu': 65266, 'français': 64477, 'différent': 64457, 'nombreux': 63198, 'important': 61873, 'foi|fois': 61706, 'monde': 59726, 'juste': 59079, 'année': 58548, 'vie': 54914, 'chose': 54682, 'vrai': 52402, 'homme': 52118, 'politique': 50615, 'propre': 49986, 'social': 49961, 'possible': 49132, 'général': 48744, 'droit': 47733, 'national': 47260, 'internet': 46329, 'cas': 45556, 'ligne': 45444, 'simple': 45294, 'pays': 44990, 'plein': 44548, 'fin': 44299, 'travail': 44218, 'gratuit': 43640, 'gros': 43261, 'enfant': 42188, 'service': 42106, 'France': 41736, 'question': 41036, 'femme': 40498, 'fort': 40137, 'place': 39522, 'haut': 38417, 'effet': 38412, 'ancien': 38231, 'point': 37452, 'moyen': 37138, 'maison': 37006, 'casino': 36942, 'international': 36420, 'principal': 36063, 'moment': 35830, 'état': 35762, 'présent': 35492, 'groupe': 35162, 'sûr': 34681, 'prochain': 34583, 'besoin': 34574, 'entreprise': 34376, 'difficile': 33394, 'moi|mois': 33298, 'européen': 33194, 'suite': 33140, 'web': 32364, 'humain': 32079, 'lieu': 32000, 'partie': 31826, 'nécessaire': 31817, 'heure': 31416, 'part': 30752, 'réel': 30489, 'prix': 30160, 'niveau': 29836, 'article': 29748, 'raison': 29690, 'projet': 29648, 'facile': 29483, 'économique': 29391, 'problème': 29226, 'système': 29224, 'produit': 29188, 'main': 29126, 'information': 28866, 'nombre': 28802, 'histoire': 28634, 'recherche': 28618, 'gens': 28310, 'exemple': 27972, 'nom': 27660, 'ville': 27338, 'conseil': 26792, 'eau': 26786, 'actuel': 26765, 'disponible': 26500, 'particulier': 26421, 'société': 26416, 'rapport': 26370, 'façon': 26104, 'cour': 26032, 'blanc': 25876, 'œil': 25638, 'local': 25612, 'noir': 25282, 'famille': 25280, 'coup': 25100, 'américain': 24902, 'professionnel': 24857, 'joueur': 24758, 'mauvais': 24736, 'semaine': 24716, 'financier': 24688, 'idée': 24288, 'public': 24071, 'page': 24048, 'argent': 23956, 'type': 23858, 'président': 23720, 'responsable': 23670, 'mesure': 23594, 'libre': 23262, 'certain': 23155, 'dieu': 23140, 'marché': 23084, 'fille': 22976, 't?te': 22894, 'côté': 22884, 'sujet': 22838, 'mondial': 22823, 'compte': 22746, 'long': 22706, 'activité': 22678, 'unique': 22659, 'forme': 22638, 'technique': 22531, 'face': 22414, 'personnel': 22374, 'programme': 22258, 'loi': 21926, 'action': 21852, 'publique': 21746, 'divers': 21710, 'membre': 21706, 'ami': 21616, 'longue': 21496, 'équipe': 21270, 'résultat': 21222, 'situation': 21218, 'véritable': 21149, 'mot': 21142, 'qualité': 21010, 'prêt': 20924, 'image': 20756, 'affaire': 20532, 'étranger': 20493, 'naturel': 20426, 'centre': 20374, 'monsieur': 20198, 'base': 20072, 'développement': 20064, 'pouvoir': 20026, 'santé': 19930, 'photo': 19900, 'tour': 19780, 'étude': 19638, 'gouvernement': 19512, 'film': 19490, 'livre': 19434, 'corps': 19412, 'vieux': 19350, 'cœur': 19212, 'choix': 19056, 'supérieur': 18858, 'rapide': 18834, 'manière': 18738, 'chaud': 18690, 'aide': 18636, 'entier': 18627, 'début': 18586, 'dur': 18538, 'suivant': 18528, 'condition': 18486, 'région': 18454, 'capable': 18313, 'terre': 18312, 'proche': 18295, 'titre': 18292, 'plan': 18218, 'esprit': 18038, 'rouge': 18012, 'complet': 17981, 'cause': 17976, 'air': 17856, 'carte': 17710, 'million': 17672, 'terme': 17658, 'formation': 17646, 'fonction': 17640, 'cadre': 17592, 'gauche': 17567, 'efficace': 17558, 'excellent': 17541, 'sens': 17534, 'client': 17374, 'sécurité': 17190, 'joli': 17021, 'valeur': 16980, 'traitement': 16978, 'commun': 16899, 'solution': 16772, 'total': 16723, 'euro': 16690, 'normal': 16604, 'vue': 16536, 'large': 16515, 'spécial': 16400, 'machine': 16358, 'blog': 16356, 'mort': 16332, 'populaire': 16272, 'Paris': 16256, 'risque': 16176, 'organisation': 16172, 'heureux': 16160, 'ministre': 16140, 'salle': 16074, 'final': 16031, 'super': 16017, 'faible': 15978, 'expérience': 15928, 'lien': 15864, 'œuvre': 15788, 'association': 15776, 'genre': 15684, 'commercial': 15638, 'journée': 15594, 'réponse': 15570, 'sein': 15484, 'supplémentaire': 15472, 'nuit': 15460, 'militaire': 15437, 'court': 15417, 'couleur': 15282, 'vente': 15270, 'texte': 15212, 'physique': 15201, 'guerre': 15092, 'plupart': 15082, 'soir': 15006, 'art': 14932, 'utile': 14898, 'frais': 14893, 'clair': 14875, 'chef': 14806, 'sorte': 14796, 'vidéo': 14777, 'officiel': 14770, 'bas': 14720, 'père': 14702, 'domaine': 14674, 'amour': 14642, 'doute': 14584, 'futur': 14565, 'travers': 14548, 'essentiel': 14528, 'but': 14472, 'occasion': 14416, 'retour': 14382, 'pied': 14350, 'minute': 14342, 'traditionnel': 14301, 'message': 14284, 'grave': 14239, 'mode': 14122, 'objet': 14120, 'application': 14114, 'espace': 14110, 'plaisir': 14092, 'magnifique': 14073, 'chance': 14064, 'réseau': 14058, 'intéressant': 14051, 'direct': 13940, 'période': 13892, 'intérêt': 13870, 'version': 13694, 'voyage': 13686, 'demande': 13684, 'énorme': 13644, 'auteur': 13642, 'relatif': 13621, 'chambre': 13612, 'pire': 13549, 'anglais': 13548, 'gestion': 13546, 'relation': 13498, 'source': 13492, 'utilisation': 13464, 'école': 13456, 'ordre': 13442, 'création': 13348, 'culturel': 13340, 'élément': 13310, 'matière': 13300, 'régional': 13292, 'mouvement': 13216, 'Europe': 13208, 'vert': 13187, 'civil': 13072, 'rare': 13016, 'récent': 12975, 'précis': 12961, 'scientifique': 12894, 'puissant': 12874, 'léger': 12846, 'riche': 12775, 'doux': 12740, 'central': 12658, 'profond': 12528, 'électrique': 12370, 'précédent': 12219, 'faux': 12193, 'spécifique': 12039, 'cher': 12039, 'net': 12005, 'moderne': 12003, 'impossible': 11811, 'nul': 11795, 'original': 11722, 'pratique': 11705, 'classique': 11496, 'actif': 11490, 'médical': 11394, 'froid': 11358, 'historique': 11259, 'lourd': 11230, 'moindre': 11149, 'bleu': 11075, 'neuf': 10971, 'double': 10874, 'agréable': 10848, 'positif': 10844, 'majeur': 10831, 'collectif': 10815, 'conséquent': 10676, 'scolaire': 10632, 'numérique': 10577, 'parfait': 10491, 'quotidien': 10479, 'familial': 10320, 'idéal': 10151, 'pur': 10096, 'intérieur': 10059, 'matériel': 9902, 'individuel': 9808, 'célèbre': 9756, 'sportif': 9721, 'extérieur': 9629, 'sérieux': 9607, 'portable': 9508, 'exceptionnel': 9438, 'présidentiel': 9432, 'privé': 9414, 'dangereux': 9398, 'religieux': 9372, 'issu': 9347, 'allemand': 9342, 'évident': 9262, 'âgé': 9258, 'durable': 9238, 'africain': 9151, 'indépendant': 9114, 'alimentaire': 9111, 'global': 9088, 'virtuel': 9007, 'mobile': 8985, 'superbe': 8972, 'pauvre': 8719, 'administratif': 8589, 'fameux': 8519, 'vif': 8507, 'content': 8456, 'industriel': 8399, 'électronique': 8309, 'objectif': 8289, 'fondamental': 8236}\n"
          ]
        }
      ]
    }
  ]
}