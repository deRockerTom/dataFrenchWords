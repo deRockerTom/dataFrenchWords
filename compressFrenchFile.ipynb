{
  "nbformat": 4,
  "nbformat_minor": 0,
  "metadata": {
    "colab": {
      "name": "Untitled0.ipynb",
      "provenance": [],
      "collapsed_sections": [],
      "authorship_tag": "ABX9TyM1CVmIbyM8K07XLqK5Lgu7",
      "include_colab_link": true
    },
    "kernelspec": {
      "name": "python3",
      "display_name": "Python 3"
    },
    "language_info": {
      "name": "python"
    }
  },
  "cells": [
    {
      "cell_type": "markdown",
      "metadata": {
        "id": "view-in-github",
        "colab_type": "text"
      },
      "source": [
        "<a href=\"https://colab.research.google.com/github/deRockerTom/dataFrenchWords/blob/main/compressFrenchFile.ipynb\" target=\"_parent\"><img src=\"https://colab.research.google.com/assets/colab-badge.svg\" alt=\"Open In Colab\"/></a>"
      ]
    },
    {
      "cell_type": "code",
      "source": [
        "!git clone https://github.com/deRockerTom/dataFrenchWords"
      ],
      "metadata": {
        "colab": {
          "base_uri": "https://localhost:8080/"
        },
        "id": "scT0RXv3qF9z",
        "outputId": "94e42dd1-a796-4d7f-a8d0-d9502399e798"
      },
      "execution_count": 1,
      "outputs": [
        {
          "output_type": "stream",
          "name": "stdout",
          "text": [
            "Cloning into 'dataFrenchWords'...\n",
            "remote: Enumerating objects: 13, done.\u001b[K\n",
            "remote: Counting objects: 100% (13/13), done.\u001b[K\n",
            "remote: Compressing objects: 100% (13/13), done.\u001b[K\n",
            "remote: Total 13 (delta 3), reused 0 (delta 0), pack-reused 0\u001b[K\n",
            "Unpacking objects: 100% (13/13), done.\n"
          ]
        }
      ]
    },
    {
      "cell_type": "code",
      "source": [
        "import csv\n",
        "\n",
        "# open csv\n",
        "dic = {}\n",
        "with open('dataFrenchWords/french-word-list-verbs.csv', 'r') as csvfile:\n",
        "  reader = csv.reader(csvfile)\n",
        "  #drop first 3 lines\n",
        "  next(reader)\n",
        "  next(reader)\n",
        "  next(reader)\n",
        "  #create dictionary\n",
        "  for row in reader:\n",
        "    if row[1] in dic:\n",
        "      dic[row[1]] += int(row[2])\n",
        "    else:\n",
        "      dic[row[1]] = int(row[2])\n",
        "  csvfile.close()\n",
        "\n",
        "with open('dataFrenchWords/french-word-list-adjectives.csv', 'r') as csvfile:\n",
        "  reader = csv.reader(csvfile)\n",
        "  #drop first 3 lines\n",
        "  next(reader)\n",
        "  next(reader)\n",
        "  next(reader)\n",
        "  #create dictionary\n",
        "  for row in reader:\n",
        "    if row[1] in dic:\n",
        "      dic[row[1]] += int(row[2])\n",
        "    else:\n",
        "      dic[row[1]] = int(row[2])\n",
        "  csvfile.close()\n",
        "\n",
        "with open('dataFrenchWords/french-word-list-nouns.csv', 'r') as csvfile:\n",
        "  reader = csv.reader(csvfile)\n",
        "  #drop first 3 lines\n",
        "  next(reader)\n",
        "  next(reader)\n",
        "  next(reader)\n",
        "  #create dictionary\n",
        "  for row in reader:\n",
        "    if row[1] in dic:\n",
        "      dic[row[1]] += int(row[2])\n",
        "    else:\n",
        "      dic[row[1]] = int(row[2])\n",
        "  csvfile.close()\n",
        "\n",
        "dic = dict(sorted(dic.items(), key=lambda item: item[1], reverse=True))\n",
        "dic = {k: dic[k] for k in list(dic)[:768]} # In order to code the dictionnary on only 2 other bytes with most frequent words\n",
        "print(dic)"
      ],
      "metadata": {
        "colab": {
          "base_uri": "https://localhost:8080/"
        },
        "id": "awJCxj_ArQG9",
        "outputId": "6a1a3bad-c38f-4a92-94d9-323d895f586d"
      },
      "execution_count": 51,
      "outputs": [
        {
          "output_type": "stream",
          "name": "stdout",
          "text": [
            "{'est': 1495122, 'ai': 1039767, 'autre': 311498, 'fai': 309755, 'peu': 258439, 'nouveau': 192744, 'grand': 191212, 'bon': 188301, 'petit': 161683, 'm?me': 133491, 'va': 123704, 'doi': 112301, 'di': 109837, 'dernier': 109357, 'voi': 96019, 'seul': 86629, 'pren': 80417, 'beau': 79318, 'sai': 74068, 'met': 73694, 'veu': 69787, 'jeune': 68814, 'meilleur': 65608, 'français': 64477, 'différent': 64457, 'trouv': 64184, 'nombreux': 63198, 'important': 61873, 'juste': 59079, 'présent': 58258, 'donn': 56499, 'ven': 56214, 'pass': 56037, 'fall': 54016, 'permett': 53302, 'vrai': 52402, 'part': 52271, 'politique': 50615, 'propre': 49986, 'social': 49961, 'possible': 49132, 'général': 48744, 'national': 47260, 'utilis': 46318, 'simple': 45294, 'plein': 44548, 'gratuit': 43640, 'gros': 43261, 'fort': 40137, 'pens': 39658, 'temps': 38463, 'haut': 38417, 'ancien': 38231, 'compren': 38010, 'rest': 37791, 'connai': 37008, 'international': 36420, 'jour': 36202, 'jou': 36179, 'principal': 36063, 'an': 35181, 'site': 35055, 'sûr': 34681, 'prochain': 34583, 'aim': 33880, 'demand': 33811, 'parl': 33720, 'difficile': 33394, 'européen': 33194, 'internet': 32967, 'jeu': 32633, 'arriv': 32426, 'droit': 32309, 'dev': 32164, 'humain': 32079, 'nécessaire': 31817, 'laiss': 31641, 'rend': 31440, 'foi|fois': 30853, 'commenc': 30620, 'réel': 30489, 'fin': 30070, 'monde': 29863, 'facile': 29483, 'économique': 29391, 'année': 29274, 'li': 28380, 'offr': 27905, 'moyen': 27698, 'vie': 27457, 'chose': 27341, 'ten': 26858, 'actuel': 26765, 'disponible': 26500, 'particulier': 26421, 'propos': 26413, 'attend': 26153, 'homme': 26059, 'blanc': 25876, 'croi': 25677, 'local': 25612, 'suiv': 25509, 'noir': 25282, 'sembl': 25135, 'américain': 24902, 'professionnel': 24857, 'obt': 24780, 'mauvais': 24736, 'viv': 24727, 'financier': 24688, 'cré': 24434, 'public': 24071, 'responsable': 23670, 'agi': 23411, 'libre': 23262, 'certain': 23155, 'mondial': 22823, 'cas': 22778, 'ligne': 22722, 'long': 22706, 'unique': 22659, 'sort': 22585, 'technique': 22531, 'pays': 22495, 'personnel': 22374, 'regard': 22169, 'travail': 22109, 'aid': 22092, 'publique': 21746, 'divers': 21710, 'concern': 21501, 'longue': 21496, 'bas': 21483, 'port': 21445, 'véritable': 21149, 'enfant': 21094, 'service': 21053, 'prêt': 20924, 'choisi': 20884, 'France': 20868, 'question': 20518, 'étranger': 20493, 'naturel': 20426, 'retrouv': 20359, 'femme': 20249, 'perd': 19854, 'entend': 19763, 'place': 19761, 'vieux': 19350, 'effet': 19206, 'écri': 19115, 'montr': 19052, 'supérieur': 18858, 'rapide': 18834, 'appel': 18759, 'point': 18726, 'chaud': 18690, 'répond': 18640, 'entier': 18627, 'reçoi': 18596, 'dur': 18538, 'suivant': 18528, 'maison': 18503, 'casino': 18471, 'cherch': 18392, 'continu': 18374, 'découvr': 18358, 'gagn': 18345, 'capable': 18313, 'proche': 18295, 'rouge': 18012, 'complet': 17981, 'moment': 17915, 'état': 17881, 'travaill': 17850, 'groupe': 17581, 'gauche': 17567, 'efficace': 17558, 'excellent': 17541, 'décid': 17508, 'chang': 17404, 'besoin': 17287, 'réalis': 17262, 'pos': 17250, 'entreprise': 17188, 'joli': 17021, 'assur': 16978, 'commun': 16899, 'sent': 16808, 'rev': 16777, 'total': 16723, 'moi|mois': 16649, 'normal': 16604, 'suite': 16570, 'large': 16515, 'compt': 16427, 'spécial': 16400, 'populaire': 16272, 'exist': 16267, 'fini': 16236, 'web': 16182, 'heureux': 16160, 'achet': 16085, 'final': 16031, 'super': 16017, 'lieu': 16000, 'faible': 15978, 'partie': 15913, 'heure': 15708, 'commercial': 15638, 'supplémentaire': 15472, 'appren': 15447, 'militaire': 15437, 'court': 15417, 'souhait': 15306, 'physique': 15201, 'prix': 15080, 'niveau': 14918, 'utile': 14898, 'frais': 14893, 'clair': 14875, 'article': 14874, 'raison': 14845, 'projet': 14824, 'ajout': 14792, 'vidéo': 14777, 'officiel': 14770, 'expliqu': 14709, 'serv': 14618, 'problème': 14613, 'système': 14612, 'produit': 14594, 'futur': 14565, 'main': 14563, 'essentiel': 14528, 'information': 14433, 'nombre': 14401, 'histoire': 14317, 'recherche': 14309, 'traditionnel': 14301, 'grave': 14239, 'ouvr': 14171, 'gens': 14155, 'magnifique': 14073, 'intéressant': 14051, 'exemple': 13986, 'direct': 13940, 'nom': 13830, 'produi': 13718, 'ville': 13669, 'énorme': 13644, 'relatif': 13621, 'pire': 13549, 'anglais': 13548, 'conseil': 13396, 'eau': 13393, 'culturel': 13340, 'régional': 13292, 'oubli': 13290, 'considér': 13239, 'lanc': 13226, 'société': 13208, 'vert': 13187, 'rapport': 13185, 'fourn': 13163, 'annonc': 13084, 'civil': 13072, 'façon': 13052, 'rare': 13016, 'cour': 13016, 'récent': 12975, 'arrêt': 12967, 'précis': 12961, 'scientifique': 12894, 'puissant': 12874, 'import': 12863, 'léger': 12846, 'œil': 12819, 'riche': 12775, 'prév': 12752, 'doux': 12740, 'développ': 12693, 'central': 12658, 'gard': 12652, 'famille': 12640, 'coup': 12550, 'profond': 12528, 'attein': 12505, 'organis': 12490, 'joueur': 12379, 'électrique': 12370, 'semaine': 12358, 'précédent': 12219, 'faux': 12193, 'rencontr': 12186, 'idée': 12144, 'tomb': 12136, 'spécifique': 12039, 'cher': 12039, 'reconnaî': 12025, 'page': 12024, 'net': 12005, 'moderne': 12003, 'argent': 11978, 'type': 11929, 'apport': 11876, 'président': 11860, 'impossible': 11811, 'mesure': 11797, 'nul': 11795, 'original': 11722, 'pratique': 11705, 'repren': 11598, 'rappel': 11572, 'dieu': 11570, 'profit': 11569, 'marché': 11542, 'classique': 11496, 'actif': 11490, 'fille': 11488, 'envoy': 11463, 't?te': 11447, 'côté': 11442, 'évit': 11440, 'sujet': 11419, 'médical': 11394, 'compte': 11373, 'froid': 11358, 'représent': 11347, 'activité': 11339, 'espér': 11324, 'forme': 11319, 'historique': 11259, 'lourd': 11230, 'face': 11207, 'moindre': 11149, 'programme': 11129, 'bleu': 11075, 'tourn': 11045, 'neuf': 10971, 'loi': 10963, 'situ': 10926, 'action': 10926, 'double': 10874, 'install': 10865, 'membre': 10853, 'agréable': 10848, 'positif': 10844, 'entr': 10834, 'majeur': 10831, 'collectif': 10815, 'ami': 10808, 'conséquent': 10676, 'tent': 10651, 'équipe': 10635, 'scolaire': 10632, 'particip': 10621, 'résultat': 10611, 'situation': 10609, 'men': 10593, 'numérique': 10577, 'mot': 10571, 'qualité': 10505, 'indiqu': 10493, 'parfait': 10491, 'quotidien': 10479, 'image': 10378, 'augment': 10350, 'familial': 10320, 'accept': 10300, 'constitu': 10287, 'plac': 10278, 'élev': 10268, 'affaire': 10266, 'centre': 10187, 'apparaî': 10153, 'idéal': 10151, 'monsieur': 10099, 'pur': 10096, 'intérieur': 10059, 'base': 10036, 'développement': 10032, 'pouvoir': 10013, 'effectu': 10002, 'santé': 9965, 'photo': 9950, 'déclar': 9924, 'partag': 9922, 'matériel': 9902, 'tour': 9890, 'rédui': 9863, 'étude': 9819, 'réussi': 9817, 'individuel': 9808, 'construi': 9807, 'occup': 9791, 'célèbre': 9756, 'gouvernement': 9756, 'film': 9745, 'sportif': 9721, 'livre': 9717, 'corps': 9706, 'extérieur': 9629, 'sérieux': 9607, 'cœur': 9606, 'tir': 9605, 'publi': 9562, 'choix': 9528, 'portable': 9508, 'exceptionnel': 9438, 'mour': 9435, 'présidentiel': 9432, 'privé': 9414, 'remett': 9410, 'dangereux': 9398, 'religieux': 9372, 'manière': 9369, 'issu': 9347, 'allemand': 9342, 'aide': 9318, 'vend': 9300, 'début': 9293, 'évident': 9262, 'âgé': 9258, 'prépar': 9248, 'condition': 9243, 'durable': 9238, 'région': 9227, 'mont': 9182, 'terre': 9156, 'naît': 9152, 'africain': 9151, 'titre': 9146, 'préfér': 9143, 'indépendant': 9114, 'alimentaire': 9111, 'plan': 9109, 'global': 9088, 'établi': 9084, 'esprit': 9019, 'virtuel': 9007, 'quitt': 9002, 'cause': 8988, 'mobile': 8985, 'superbe': 8972, 'manqu': 8958, 'mang': 8953, 'air': 8928, 'posséd': 8891, 'contien': 8880, 'engag': 8859, 'carte': 8855, 'million': 8836, 'terme': 8829, 'formation': 8823, 'fonction': 8820, 'cadre': 8796, 'sens': 8767, 'associ': 8726, 'pauvre': 8719, 'touch': 8715, 'client': 8687, 'sécurité': 8595, 'administratif': 8589, 'fameux': 8519, 'vif': 8507, 'valeur': 8490, 'traitement': 8489, 'content': 8456, 'intéress': 8421, 'industriel': 8399, 'solution': 8386, 'amélior': 8381, 'euro': 8345, 'paraî': 8317, 'accompagn': 8313, 'électronique': 8309, 'dispos': 8306, 'objectif': 8289, 'trait': 8283, 'condui': 8280, 'vue': 8268, 'souten': 8252, 'fondamental': 8236, 'inscri': 8206, 'machine': 8179, 'blog': 8178, 'mort': 8166, 'vau': 8162, 'impos': 8137, 'Paris': 8128, 'termin': 8097, 'risque': 8088, 'organisation': 8086, 'ministre': 8070, 'suffi': 8048, 'empêch': 8046, 'salle': 8037, 'vis': 8001, 'adapt': 7987, 'expérience': 7964, 'lien': 7932, 'œuvre': 7894, 'association': 7888, 'not': 7866, 'form': 7855, 'genre': 7842, 'protég': 7813, 'journée': 7797, 'réponse': 7785, 'charg': 7777, 'marqu': 7761, 'batt': 7757, 'sein': 7742, 'nuit': 7730, 'avanc': 7666, 'couleur': 7641, 'vente': 7635, 'tu': 7624, 'appliqu': 7621, 'fonctionn': 7611, 'texte': 7606, 'rentr': 7604, 'guerre': 7546, 'plupart': 7541, 'compos': 7503, 'soir': 7503, 'art': 7466, 'rejoin': 7463, 'invit': 7404, 'chef': 7403, 'sorte': 7398, 'père': 7351, 'poursuiv': 7339, 'domaine': 7337, 'amour': 7321, 'cach': 7320, 'affirm': 7296, 'doute': 7292, 'recherch': 7277, 'retourn': 7276, 'travers': 7274, 'refus': 7269, 'dirig': 7263, 'but': 7236, 'respect': 7229, 'estim': 7216, 'occasion': 7208, 'retour': 7191, 'relev': 7185, 'pied': 7175, 'minute': 7171, 'limit': 7154, 'message': 7142, 'imagin': 7129, 'exprim': 7090, 'mode': 7061, 'objet': 7060, 'application': 7057, 'espace': 7055, 'plaisir': 7046, 'fix': 7034, 'chance': 7032, 'réseau': 7029, 'confirm': 7017, 'révél': 6981, 'période': 6946, 'intérêt': 6935, 'version': 6847, 'voyage': 6843, 'demande': 6842, 'signifi': 6841, 'lev': 6832, 'maintien': 6824, 'auteur': 6821, 'observ': 6820, 'gér': 6813, 'chambre': 6806, 'gestion': 6773, 'relation': 6749, 'source': 6746, 'utilisation': 6732, 'pouss': 6728, 'école': 6728, 'ordre': 6721, 'intégr': 6695, 'création': 6674, 'élément': 6655, 'matière': 6650, 'mouvement': 6608, 'Europe': 6604}\n"
          ]
        }
      ]
    },
    {
      "cell_type": "code",
      "source": [
        "# class to build a tree defining all the possible  string in dic\n",
        "class SuffixTree():\n",
        "  class Node():\n",
        "    def __init__(self,char):\n",
        "      self.char = char\n",
        "      self.out = {}\n",
        "      self.isFinal = False\n",
        "    def __str__(self, level=0):\n",
        "      ret = \"  \" * level + str(self.char) + \"\\n\"\n",
        "      for c in self.out:\n",
        "        ret += self.out[c].__str__(level + 1)\n",
        "      return ret\n",
        "\n",
        "  def __init__(self, dic):\n",
        "    self.root = self.Node(None)\n",
        "    self.root.isFinal = True\n",
        "    for key in dic:\n",
        "      cursor = self.root\n",
        "      for c in key:\n",
        "        if c in cursor.out:\n",
        "          cursor = cursor.out[c]\n",
        "        else:\n",
        "          node = self.Node(c)\n",
        "          cursor.out[c] = node\n",
        "          cursor = node\n",
        "      cursor.isFinal = True\n",
        "  def longestPrefix(self, s):\n",
        "    cursor = self.root\n",
        "    word = ''\n",
        "    temp = ''\n",
        "    end = False\n",
        "    i = 0\n",
        "    length = len(s)\n",
        "    while not(end) and i < length:\n",
        "      if s[i] in cursor.out:\n",
        "        temp = temp + s[i]\n",
        "        cursor = cursor.out[s[i]]\n",
        "        if cursor.isFinal:\n",
        "          word = temp\n",
        "        i += 1\n",
        "      else:\n",
        "        end = True\n",
        "    return word\n",
        "  def __str__(self):\n",
        "    return f'{self.root}'\n",
        "\n",
        "s = SuffixTree({'ab' : 1, 'abc': 2, 'coucou' : 5, 'aba' : 4, 'aaa' : 8})\n",
        "print(s)\n",
        "s.longestPrefix('abdc')\n",
        "    \n"
      ],
      "metadata": {
        "id": "ND_fSFhFq51O",
        "outputId": "99e86024-5483-44db-ab1c-e101322ef0c2",
        "colab": {
          "base_uri": "https://localhost:8080/",
          "height": 278
        }
      },
      "execution_count": 52,
      "outputs": [
        {
          "output_type": "stream",
          "name": "stdout",
          "text": [
            "None\n",
            "  a\n",
            "    b\n",
            "      c\n",
            "      a\n",
            "    a\n",
            "      a\n",
            "  c\n",
            "    o\n",
            "      u\n",
            "        c\n",
            "          o\n",
            "            u\n",
            "\n"
          ]
        },
        {
          "output_type": "execute_result",
          "data": {
            "text/plain": [
              "'ab'"
            ],
            "application/vnd.google.colaboratory.intrinsic+json": {
              "type": "string"
            }
          },
          "metadata": {},
          "execution_count": 52
        }
      ]
    },
    {
      "cell_type": "code",
      "source": [
        "# First implementation\n",
        "\n"
      ],
      "metadata": {
        "id": "d22Anv76pQBY"
      },
      "execution_count": null,
      "outputs": []
    }
  ]
}