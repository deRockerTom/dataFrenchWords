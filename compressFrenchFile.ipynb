{
  "nbformat": 4,
  "nbformat_minor": 0,
  "metadata": {
    "colab": {
      "name": "Untitled0.ipynb",
      "provenance": [],
      "collapsed_sections": [],
      "authorship_tag": "ABX9TyNVycXQ5g+6y6sMW1MfdPpR",
      "include_colab_link": true
    },
    "kernelspec": {
      "name": "python3",
      "display_name": "Python 3"
    },
    "language_info": {
      "name": "python"
    }
  },
  "cells": [
    {
      "cell_type": "markdown",
      "metadata": {
        "id": "view-in-github",
        "colab_type": "text"
      },
      "source": [
        "<a href=\"https://colab.research.google.com/github/deRockerTom/dataFrenchWords/blob/main/compressFrenchFile.ipynb\" target=\"_parent\"><img src=\"https://colab.research.google.com/assets/colab-badge.svg\" alt=\"Open In Colab\"/></a>"
      ]
    },
    {
      "cell_type": "code",
      "source": [
        "!git clone https://github.com/deRockerTom/dataFrenchWords"
      ],
      "metadata": {
        "colab": {
          "base_uri": "https://localhost:8080/"
        },
        "id": "scT0RXv3qF9z",
        "outputId": "2f7de560-ae1a-4ce8-b88a-62ad8cc0fe3c"
      },
      "execution_count": null,
      "outputs": [
        {
          "output_type": "stream",
          "name": "stdout",
          "text": [
            "Cloning into 'dataFrenchWords'...\n",
            "remote: Enumerating objects: 19, done.\u001b[K\n",
            "remote: Counting objects: 100% (19/19), done.\u001b[K\n",
            "remote: Compressing objects: 100% (19/19), done.\u001b[K\n",
            "remote: Total 19 (delta 6), reused 0 (delta 0), pack-reused 0\u001b[K\n",
            "Unpacking objects: 100% (19/19), done.\n"
          ]
        }
      ]
    },
    {
      "cell_type": "code",
      "source": [
        "def convertToBinary(number):\n",
        "  binary = ''\n",
        "  while number > 0:\n",
        "    binary = str(number % 2) + binary\n",
        "    number = number // 2\n",
        "  return binary\n",
        "def convertToNineBits(bits):\n",
        "  n = len(bits)\n",
        "  if n < 9:\n",
        "    k = 9 - n\n",
        "    return str('0') * k + bits\n",
        "  elif n == 9:\n",
        "    return bits\n",
        "  else:\n",
        "    print(\"Attention : un des encodages est trop grand (>9)\")\n",
        "\n",
        "convertToNineBits(convertToBinary(255))"
      ],
      "metadata": {
        "colab": {
          "base_uri": "https://localhost:8080/",
          "height": 36
        },
        "id": "3osK_tKk8uSu",
        "outputId": "2196a9e1-d6a0-482f-cc27-6c9a0601e520"
      },
      "execution_count": 88,
      "outputs": [
        {
          "output_type": "execute_result",
          "data": {
            "text/plain": [
              "'011111111'"
            ],
            "application/vnd.google.colaboratory.intrinsic+json": {
              "type": "string"
            }
          },
          "metadata": {},
          "execution_count": 88
        }
      ]
    },
    {
      "cell_type": "code",
      "source": [
        "import csv\n",
        "\n",
        "# open csv\n",
        "dic = {}\n",
        "with open('dataFrenchWords/french-word-list-verbs.csv', 'r') as csvfile:\n",
        "  reader = csv.reader(csvfile)\n",
        "  #drop first 3 lines\n",
        "  next(reader)\n",
        "  next(reader)\n",
        "  next(reader)\n",
        "  #create dictionary\n",
        "  for row in reader:\n",
        "    if row[1] in dic:\n",
        "      dic[row[1]] += int(row[2])\n",
        "    else:\n",
        "      dic[row[1]] = int(row[2])\n",
        "  csvfile.close()\n",
        "\n",
        "with open('dataFrenchWords/french-word-list-adjectives.csv', 'r') as csvfile:\n",
        "  reader = csv.reader(csvfile)\n",
        "  #drop first 3 lines\n",
        "  next(reader)\n",
        "  next(reader)\n",
        "  next(reader)\n",
        "  #create dictionary\n",
        "  for row in reader:\n",
        "    if row[1] in dic:\n",
        "      dic[row[1]] += int(row[2])\n",
        "    else:\n",
        "      dic[row[1]] = int(row[2])\n",
        "  csvfile.close()\n",
        "\n",
        "with open('dataFrenchWords/french-word-list-nouns.csv', 'r') as csvfile:\n",
        "  reader = csv.reader(csvfile)\n",
        "  #drop first 3 lines\n",
        "  next(reader)\n",
        "  next(reader)\n",
        "  next(reader)\n",
        "  #create dictionary\n",
        "  for row in reader:\n",
        "    if row[1] in dic:\n",
        "      dic[row[1]] += int(row[2])\n",
        "    else:\n",
        "      dic[row[1]] = int(row[2])\n",
        "  csvfile.close()\n",
        "\n",
        "# Ponctuation :\n",
        "\n",
        "dic[', '] = 150000\n",
        "dic['. '] = 150000\n",
        "\n",
        "dic = dict(sorted(dic.items(), key=lambda item: item[1], reverse=True))\n",
        "dic = {k: dic[k] for k in list(dic)[:256]} # In order to code the dictionnary on only 2 other bytes with most frequent words\n",
        "offset = 256\n",
        "i = 0\n",
        "for key in dic:\n",
        "  dic[key] = convertToNineBits(convertToBinary(offset + i))\n",
        "  offset += 1\n",
        "\n",
        "print(dic)\n",
        "\n",
        "reverted_dic = {v: k for k, v in dic.items()}\n",
        "\n",
        "print(reverted_dic)"
      ],
      "metadata": {
        "colab": {
          "base_uri": "https://localhost:8080/"
        },
        "id": "awJCxj_ArQG9",
        "outputId": "7990ae26-65c1-4597-a47b-2934aa2b6e7c"
      },
      "execution_count": 89,
      "outputs": [
        {
          "output_type": "stream",
          "name": "stdout",
          "text": [
            "{'est': '100000000', 'ai': '100000001', 'autre': '100000010', 'fai': '100000011', 'peu': '100000100', 'nouveau': '100000101', 'grand': '100000110', 'bon': '100000111', 'petit': '100001000', ', ': '100001001', '. ': '100001010', 'm?me': '100001011', 'va': '100001100', 'doi': '100001101', 'di': '100001110', 'dernier': '100001111', 'voi': '100010000', 'seul': '100010001', 'pren': '100010010', 'beau': '100010011', 'sai': '100010100', 'met': '100010101', 'veu': '100010110', 'jeune': '100010111', 'meilleur': '100011000', 'français': '100011001', 'différent': '100011010', 'trouv': '100011011', 'nombreux': '100011100', 'important': '100011101', 'juste': '100011110', 'présent': '100011111', 'donn': '100100000', 'ven': '100100001', 'pass': '100100010', 'fall': '100100011', 'permett': '100100100', 'vrai': '100100101', 'part': '100100110', 'politique': '100100111', 'propre': '100101000', 'social': '100101001', 'possible': '100101010', 'général': '100101011', 'national': '100101100', 'utilis': '100101101', 'simple': '100101110', 'plein': '100101111', 'gratuit': '100110000', 'gros': '100110001', 'fort': '100110010', 'pens': '100110011', 'temps': '100110100', 'haut': '100110101', 'ancien': '100110110', 'compren': '100110111', 'rest': '100111000', 'connai': '100111001', 'international': '100111010', 'jour': '100111011', 'jou': '100111100', 'principal': '100111101', 'an': '100111110', 'site': '100111111', 'sûr': '101000000', 'prochain': '101000001', 'aim': '101000010', 'demand': '101000011', 'parl': '101000100', 'difficile': '101000101', 'européen': '101000110', 'internet': '101000111', 'jeu': '101001000', 'arriv': '101001001', 'droit': '101001010', 'dev': '101001011', 'humain': '101001100', 'nécessaire': '101001101', 'laiss': '101001110', 'rend': '101001111', 'foi|fois': '101010000', 'commenc': '101010001', 'réel': '101010010', 'fin': '101010011', 'monde': '101010100', 'facile': '101010101', 'économique': '101010110', 'année': '101010111', 'li': '101011000', 'offr': '101011001', 'moyen': '101011010', 'vie': '101011011', 'chose': '101011100', 'ten': '101011101', 'actuel': '101011110', 'disponible': '101011111', 'particulier': '101100000', 'propos': '101100001', 'attend': '101100010', 'homme': '101100011', 'blanc': '101100100', 'croi': '101100101', 'local': '101100110', 'suiv': '101100111', 'noir': '101101000', 'sembl': '101101001', 'américain': '101101010', 'professionnel': '101101011', 'obt': '101101100', 'mauvais': '101101101', 'viv': '101101110', 'financier': '101101111', 'cré': '101110000', 'public': '101110001', 'responsable': '101110010', 'agi': '101110011', 'libre': '101110100', 'certain': '101110101', 'mondial': '101110110', 'cas': '101110111', 'ligne': '101111000', 'long': '101111001', 'unique': '101111010', 'sort': '101111011', 'technique': '101111100', 'pays': '101111101', 'personnel': '101111110', 'regard': '101111111', 'travail': '110000000', 'aid': '110000001', 'publique': '110000010', 'divers': '110000011', 'concern': '110000100', 'longue': '110000101', 'bas': '110000110', 'port': '110000111', 'véritable': '110001000', 'enfant': '110001001', 'service': '110001010', 'prêt': '110001011', 'choisi': '110001100', 'France': '110001101', 'question': '110001110', 'étranger': '110001111', 'naturel': '110010000', 'retrouv': '110010001', 'femme': '110010010', 'perd': '110010011', 'entend': '110010100', 'place': '110010101', 'vieux': '110010110', 'effet': '110010111', 'écri': '110011000', 'montr': '110011001', 'supérieur': '110011010', 'rapide': '110011011', 'appel': '110011100', 'point': '110011101', 'chaud': '110011110', 'répond': '110011111', 'entier': '110100000', 'reçoi': '110100001', 'dur': '110100010', 'suivant': '110100011', 'maison': '110100100', 'casino': '110100101', 'cherch': '110100110', 'continu': '110100111', 'découvr': '110101000', 'gagn': '110101001', 'capable': '110101010', 'proche': '110101011', 'rouge': '110101100', 'complet': '110101101', 'moment': '110101110', 'état': '110101111', 'travaill': '110110000', 'groupe': '110110001', 'gauche': '110110010', 'efficace': '110110011', 'excellent': '110110100', 'décid': '110110101', 'chang': '110110110', 'besoin': '110110111', 'réalis': '110111000', 'pos': '110111001', 'entreprise': '110111010', 'joli': '110111011', 'assur': '110111100', 'commun': '110111101', 'sent': '110111110', 'rev': '110111111', 'total': '111000000', 'moi|mois': '111000001', 'normal': '111000010', 'suite': '111000011', 'large': '111000100', 'compt': '111000101', 'spécial': '111000110', 'populaire': '111000111', 'exist': '111001000', 'fini': '111001001', 'web': '111001010', 'heureux': '111001011', 'achet': '111001100', 'final': '111001101', 'super': '111001110', 'lieu': '111001111', 'faible': '111010000', 'partie': '111010001', 'heure': '111010010', 'commercial': '111010011', 'supplémentaire': '111010100', 'appren': '111010101', 'militaire': '111010110', 'court': '111010111', 'souhait': '111011000', 'physique': '111011001', 'prix': '111011010', 'niveau': '111011011', 'utile': '111011100', 'frais': '111011101', 'clair': '111011110', 'article': '111011111', 'raison': '111100000', 'projet': '111100001', 'ajout': '111100010', 'vidéo': '111100011', 'officiel': '111100100', 'expliqu': '111100101', 'serv': '111100110', 'problème': '111100111', 'système': '111101000', 'produit': '111101001', 'futur': '111101010', 'main': '111101011', 'essentiel': '111101100', 'information': '111101101', 'nombre': '111101110', 'histoire': '111101111', 'recherche': '111110000', 'traditionnel': '111110001', 'grave': '111110010', 'ouvr': '111110011', 'gens': '111110100', 'magnifique': '111110101', 'intéressant': '111110110', 'exemple': '111110111', 'direct': '111111000', 'nom': '111111001', 'produi': '111111010', 'ville': '111111011', 'énorme': '111111100', 'relatif': '111111101', 'pire': '111111110', 'anglais': '111111111'}\n",
            "{'100000000': 'est', '100000001': 'ai', '100000010': 'autre', '100000011': 'fai', '100000100': 'peu', '100000101': 'nouveau', '100000110': 'grand', '100000111': 'bon', '100001000': 'petit', '100001001': ', ', '100001010': '. ', '100001011': 'm?me', '100001100': 'va', '100001101': 'doi', '100001110': 'di', '100001111': 'dernier', '100010000': 'voi', '100010001': 'seul', '100010010': 'pren', '100010011': 'beau', '100010100': 'sai', '100010101': 'met', '100010110': 'veu', '100010111': 'jeune', '100011000': 'meilleur', '100011001': 'français', '100011010': 'différent', '100011011': 'trouv', '100011100': 'nombreux', '100011101': 'important', '100011110': 'juste', '100011111': 'présent', '100100000': 'donn', '100100001': 'ven', '100100010': 'pass', '100100011': 'fall', '100100100': 'permett', '100100101': 'vrai', '100100110': 'part', '100100111': 'politique', '100101000': 'propre', '100101001': 'social', '100101010': 'possible', '100101011': 'général', '100101100': 'national', '100101101': 'utilis', '100101110': 'simple', '100101111': 'plein', '100110000': 'gratuit', '100110001': 'gros', '100110010': 'fort', '100110011': 'pens', '100110100': 'temps', '100110101': 'haut', '100110110': 'ancien', '100110111': 'compren', '100111000': 'rest', '100111001': 'connai', '100111010': 'international', '100111011': 'jour', '100111100': 'jou', '100111101': 'principal', '100111110': 'an', '100111111': 'site', '101000000': 'sûr', '101000001': 'prochain', '101000010': 'aim', '101000011': 'demand', '101000100': 'parl', '101000101': 'difficile', '101000110': 'européen', '101000111': 'internet', '101001000': 'jeu', '101001001': 'arriv', '101001010': 'droit', '101001011': 'dev', '101001100': 'humain', '101001101': 'nécessaire', '101001110': 'laiss', '101001111': 'rend', '101010000': 'foi|fois', '101010001': 'commenc', '101010010': 'réel', '101010011': 'fin', '101010100': 'monde', '101010101': 'facile', '101010110': 'économique', '101010111': 'année', '101011000': 'li', '101011001': 'offr', '101011010': 'moyen', '101011011': 'vie', '101011100': 'chose', '101011101': 'ten', '101011110': 'actuel', '101011111': 'disponible', '101100000': 'particulier', '101100001': 'propos', '101100010': 'attend', '101100011': 'homme', '101100100': 'blanc', '101100101': 'croi', '101100110': 'local', '101100111': 'suiv', '101101000': 'noir', '101101001': 'sembl', '101101010': 'américain', '101101011': 'professionnel', '101101100': 'obt', '101101101': 'mauvais', '101101110': 'viv', '101101111': 'financier', '101110000': 'cré', '101110001': 'public', '101110010': 'responsable', '101110011': 'agi', '101110100': 'libre', '101110101': 'certain', '101110110': 'mondial', '101110111': 'cas', '101111000': 'ligne', '101111001': 'long', '101111010': 'unique', '101111011': 'sort', '101111100': 'technique', '101111101': 'pays', '101111110': 'personnel', '101111111': 'regard', '110000000': 'travail', '110000001': 'aid', '110000010': 'publique', '110000011': 'divers', '110000100': 'concern', '110000101': 'longue', '110000110': 'bas', '110000111': 'port', '110001000': 'véritable', '110001001': 'enfant', '110001010': 'service', '110001011': 'prêt', '110001100': 'choisi', '110001101': 'France', '110001110': 'question', '110001111': 'étranger', '110010000': 'naturel', '110010001': 'retrouv', '110010010': 'femme', '110010011': 'perd', '110010100': 'entend', '110010101': 'place', '110010110': 'vieux', '110010111': 'effet', '110011000': 'écri', '110011001': 'montr', '110011010': 'supérieur', '110011011': 'rapide', '110011100': 'appel', '110011101': 'point', '110011110': 'chaud', '110011111': 'répond', '110100000': 'entier', '110100001': 'reçoi', '110100010': 'dur', '110100011': 'suivant', '110100100': 'maison', '110100101': 'casino', '110100110': 'cherch', '110100111': 'continu', '110101000': 'découvr', '110101001': 'gagn', '110101010': 'capable', '110101011': 'proche', '110101100': 'rouge', '110101101': 'complet', '110101110': 'moment', '110101111': 'état', '110110000': 'travaill', '110110001': 'groupe', '110110010': 'gauche', '110110011': 'efficace', '110110100': 'excellent', '110110101': 'décid', '110110110': 'chang', '110110111': 'besoin', '110111000': 'réalis', '110111001': 'pos', '110111010': 'entreprise', '110111011': 'joli', '110111100': 'assur', '110111101': 'commun', '110111110': 'sent', '110111111': 'rev', '111000000': 'total', '111000001': 'moi|mois', '111000010': 'normal', '111000011': 'suite', '111000100': 'large', '111000101': 'compt', '111000110': 'spécial', '111000111': 'populaire', '111001000': 'exist', '111001001': 'fini', '111001010': 'web', '111001011': 'heureux', '111001100': 'achet', '111001101': 'final', '111001110': 'super', '111001111': 'lieu', '111010000': 'faible', '111010001': 'partie', '111010010': 'heure', '111010011': 'commercial', '111010100': 'supplémentaire', '111010101': 'appren', '111010110': 'militaire', '111010111': 'court', '111011000': 'souhait', '111011001': 'physique', '111011010': 'prix', '111011011': 'niveau', '111011100': 'utile', '111011101': 'frais', '111011110': 'clair', '111011111': 'article', '111100000': 'raison', '111100001': 'projet', '111100010': 'ajout', '111100011': 'vidéo', '111100100': 'officiel', '111100101': 'expliqu', '111100110': 'serv', '111100111': 'problème', '111101000': 'système', '111101001': 'produit', '111101010': 'futur', '111101011': 'main', '111101100': 'essentiel', '111101101': 'information', '111101110': 'nombre', '111101111': 'histoire', '111110000': 'recherche', '111110001': 'traditionnel', '111110010': 'grave', '111110011': 'ouvr', '111110100': 'gens', '111110101': 'magnifique', '111110110': 'intéressant', '111110111': 'exemple', '111111000': 'direct', '111111001': 'nom', '111111010': 'produi', '111111011': 'ville', '111111100': 'énorme', '111111101': 'relatif', '111111110': 'pire', '111111111': 'anglais'}\n"
          ]
        }
      ]
    },
    {
      "cell_type": "code",
      "source": [
        "# class to build a tree defining all the possible  string in dic\n",
        "class SuffixTree():\n",
        "  class Node():\n",
        "    def __init__(self,char):\n",
        "      self.char = char\n",
        "      self.out = {}\n",
        "      self.isFinal = False\n",
        "    def __str__(self, level=0):\n",
        "      ret = \"  \" * level + str(self.char) + \"\\n\"\n",
        "      for c in self.out:\n",
        "        ret += self.out[c].__str__(level + 1)\n",
        "      return ret\n",
        "\n",
        "  def __init__(self, dic):\n",
        "    self.root = self.Node(None)\n",
        "    self.root.isFinal = True\n",
        "    for key in dic:\n",
        "      cursor = self.root\n",
        "      for c in key:\n",
        "        if c in cursor.out:\n",
        "          cursor = cursor.out[c]\n",
        "        else:\n",
        "          node = self.Node(c)\n",
        "          cursor.out[c] = node\n",
        "          cursor = node\n",
        "      cursor.isFinal = True\n",
        "  def longestPrefix(self, s):\n",
        "    cursor = self.root\n",
        "    word = ''\n",
        "    temp = ''\n",
        "    end = False\n",
        "    i = 0\n",
        "    length = len(s)\n",
        "    while not(end) and i < length:\n",
        "      if s[i] in cursor.out:\n",
        "        temp = temp + s[i]\n",
        "        cursor = cursor.out[s[i]]\n",
        "        if cursor.isFinal:\n",
        "          word = temp\n",
        "        i += 1\n",
        "      else:\n",
        "        end = True\n",
        "    return word\n",
        "  def __str__(self):\n",
        "    return f'{self.root}'\n",
        "\n",
        "s = SuffixTree({'ab' : 1, 'abc': 2, 'coucou' : 5, 'aba' : 4, 'aaa' : 8})\n",
        "print(s)\n",
        "s.longestPrefix('abdc')\n",
        "    \n"
      ],
      "metadata": {
        "colab": {
          "base_uri": "https://localhost:8080/",
          "height": 291
        },
        "id": "ND_fSFhFq51O",
        "outputId": "7543deb0-a123-45e0-8655-2e056926024c"
      },
      "execution_count": 90,
      "outputs": [
        {
          "output_type": "stream",
          "name": "stdout",
          "text": [
            "None\n",
            "  a\n",
            "    b\n",
            "      c\n",
            "      a\n",
            "    a\n",
            "      a\n",
            "  c\n",
            "    o\n",
            "      u\n",
            "        c\n",
            "          o\n",
            "            u\n",
            "\n"
          ]
        },
        {
          "output_type": "execute_result",
          "data": {
            "text/plain": [
              "'ab'"
            ],
            "application/vnd.google.colaboratory.intrinsic+json": {
              "type": "string"
            }
          },
          "metadata": {},
          "execution_count": 90
        }
      ]
    },
    {
      "cell_type": "code",
      "source": [
        "tree = SuffixTree(dic)"
      ],
      "metadata": {
        "id": "FgOeftRxAILs"
      },
      "execution_count": 91,
      "outputs": []
    },
    {
      "cell_type": "code",
      "source": [
        "# First implementation\n",
        "\n",
        "string = 'ceci est un test d\\'implémentation'\n",
        "\n",
        "def compress(string, tree, dic):\n",
        "  i = 0\n",
        "  ret = ''\n",
        "  while i<len(string):\n",
        "    temp = tree.longestPrefix(string[i:])\n",
        "    n = len(temp)\n",
        "    if n == 0:\n",
        "      bit = convertToNineBits(convertToBinary(ord(string[i])))\n",
        "      ret += bit\n",
        "      i += 1\n",
        "    else:\n",
        "      bit = dic[temp]\n",
        "      ret += bit\n",
        "      i += n\n",
        "  return ret\n",
        "\n",
        "compressed = compress(string, tree, dic)\n",
        "print(compressed)\n",
        "\n",
        "def decompress(string, dic):\n",
        "  ret = ''\n",
        "  for i in range(0, len(string) - 1, 9):\n",
        "    if int(string[i : i + 9], 2) > 255:\n",
        "      ret += dic[string[i : i + 9]]\n",
        "    else:\n",
        "      ret += chr(int(string[i : i + 9], 2))\n",
        "  return ret\n",
        "\n",
        "decompressed = decompress(compressed, reverted_dic)\n",
        "print(decompressed)\n",
        "\n",
        "print(f'Le fichier avant décompression faisait {len(string) * 8} octets et celui compressé fait {len(compressed)} octets')\n",
        "print(f'Le taux de compression est donc de {len(string) * 8 / len(compressed)}')\n",
        "  \n"
      ],
      "metadata": {
        "colab": {
          "base_uri": "https://localhost:8080/"
        },
        "id": "d22Anv76pQBY",
        "outputId": "c28219c7-23bf-47c9-b978-306c06d00c05"
      },
      "execution_count": 97,
      "outputs": [
        {
          "output_type": "stream",
          "name": "stdout",
          "text": [
            "001100011001100101001100011001101001000100000100000000000100000001110101001101110000100000001110100100000000000100000001100100000100111001101001001101101001110000001101100011101001001101101001100101001101110001110100001100001001110100001101001001101111001101110\n",
            "ceci est un test d'implémentation\n",
            "Le fichier avant décompression faisait 264 octets et celui compressé fait 261 octets\n",
            "Le taux de compression est donc de 1.0114942528735633\n"
          ]
        }
      ]
    },
    {
      "cell_type": "code",
      "source": [
        ""
      ],
      "metadata": {
        "id": "x8Hdk0JS8Jbh"
      },
      "execution_count": null,
      "outputs": []
    }
  ]
}